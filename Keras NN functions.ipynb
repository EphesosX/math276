{
 "cells": [
  {
   "cell_type": "code",
   "execution_count": 1,
   "metadata": {},
   "outputs": [
    {
     "name": "stderr",
     "output_type": "stream",
     "text": [
      "Using TensorFlow backend.\n",
      "/Users/nzolman/anaconda3/lib/python3.5/importlib/_bootstrap.py:222: RuntimeWarning: compiletime version 3.6 of module 'tensorflow.python.framework.fast_tensor_util' does not match runtime version 3.5\n",
      "  return f(*args, **kwds)\n"
     ]
    }
   ],
   "source": [
    "# some setup (probably mostly unneccessary)\n",
    "\n",
    "import numpy as np\n",
    "np.random.seed(123)  # for reproducibility\n",
    "from keras.layers import Dense, Dropout, Activation, Flatten\n",
    "from keras.layers import Convolution2D, MaxPooling2D\n",
    "from keras.utils import np_utils\n",
    "\n",
    "from keras.models import Sequential\n",
    "from keras import backend as K\n",
    "K.set_image_dim_ordering('th')\n",
    "\n",
    "from keras.datasets import mnist\n",
    "from keras.models import load_model\n",
    "\n",
    "from matplotlib import pyplot as plt\n",
    "%matplotlib inline"
   ]
  },
  {
   "cell_type": "code",
   "execution_count": 2,
   "metadata": {
    "collapsed": true
   },
   "outputs": [],
   "source": [
    "# how to save a model\n",
    "# model.save('keras_mnist_modelv1.h5') \n",
    "\n",
    "# load in a model\n",
    "model_filename = 'keras_mnist_modelv1.h5'\n",
    "model = load_model(model_filename)"
   ]
  },
  {
   "cell_type": "code",
   "execution_count": 3,
   "metadata": {},
   "outputs": [
    {
     "name": "stdout",
     "output_type": "stream",
     "text": [
      "conv2d_3\n",
      "conv2d_4\n",
      "max_pooling2d_1\n",
      "dropout_1\n",
      "flatten_1\n",
      "dense_1\n",
      "dropout_2\n",
      "dense_2\n"
     ]
    }
   ],
   "source": [
    "# Print out the layers\n",
    "for layer in model.layers:\n",
    "    print(layer.get_config()[\"name\"])\n"
   ]
  },
  {
   "cell_type": "code",
   "execution_count": 4,
   "metadata": {},
   "outputs": [
    {
     "name": "stdout",
     "output_type": "stream",
     "text": [
      "weight shape:  (4608, 128)\n",
      "bias shape:  (128,)\n"
     ]
    }
   ],
   "source": [
    "# We're going to look at the first dense layer \n",
    "\n",
    "# get the dense layer\n",
    "dense_layer= model.layers[-3]\n",
    "\n",
    "# pull out the weights\n",
    "dense_weights = np.array(dense_layer.get_weights())\n",
    "\n",
    "# look at the shape\n",
    "print(\"weight shape: \", dense_weights[0].shape)\n",
    "print(\"bias shape: \", dense_weights[1].shape)"
   ]
  },
  {
   "cell_type": "code",
   "execution_count": 5,
   "metadata": {},
   "outputs": [
    {
     "data": {
      "image/png": "[encoded data removed]",
      "text/plain": [
       "<matplotlib.figure.Figure at 0x120fbd588>"
      ]
     },
     "metadata": {},
     "output_type": "display_data"
    }
   ],
   "source": [
    "# compute the L1 norm for the dense weights\n",
    "dense_L1 = np.sum(np.abs(dense_weights[0]), axis = 0)\n",
    "\n",
    "\n",
    "# function counting the number of nodes above a threshold\n",
    "def thresh_count(arr, thresh):\n",
    "    return(np.sum(arr > thresh))\n",
    "\n",
    "# list of thresholds\n",
    "thresh_list = np.linspace(0,450, 2000)\n",
    "\n",
    "# count the number of nodes for all thresholds\n",
    "dense_count = np.array([thresh_count(dense_L1, thresh) for thresh in thresh_list])\n",
    "\n",
    "# plot count vs. thresh\n",
    "plt.plot(thresh_list, dense_count)\n",
    "plt.show()"
   ]
  }
 ],
 "metadata": {
  "kernelspec": {
   "display_name": "Python 3",
   "language": "python",
   "name": "python3"
  },
  "language_info": {
   "codemirror_mode": {
    "name": "ipython",
    "version": 3
   },
   "file_extension": ".py",
   "mimetype": "text/x-python",
   "name": "python",
   "nbconvert_exporter": "python",
   "pygments_lexer": "ipython3",
   "version": "3.5.3"
  }
 },
 "nbformat": 4,
 "nbformat_minor": 2
}
