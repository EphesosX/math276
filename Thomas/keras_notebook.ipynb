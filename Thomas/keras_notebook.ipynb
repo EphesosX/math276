{
 "cells": [
  {
   "cell_type": "code",
   "execution_count": 1,
   "metadata": {},
   "outputs": [],
   "source": [
    "from matplotlib import pyplot as plt\n",
    "%matplotlib inline\n",
    "import numpy as np"
   ]
  },
  {
   "cell_type": "code",
   "execution_count": 2,
   "metadata": {},
   "outputs": [
    {
     "name": "stderr",
     "output_type": "stream",
     "text": [
      "C:\\Users\\Thomas\\Anaconda3\\envs\\tensorflowgpu\\lib\\site-packages\\h5py\\__init__.py:36: FutureWarning: Conversion of the second argument of issubdtype from `float` to `np.floating` is deprecated. In future, it will be treated as `np.float64 == np.dtype(float).type`.\n",
      "  from ._conv import register_converters as _register_converters\n",
      "Using TensorFlow backend.\n",
      "C:\\Users\\Thomas\\Documents\\Networks\\math276\\Thomas\\model_generation.py:52: UserWarning: Update your `Conv2D` call to the Keras 2 API: `Conv2D(32, (3, 3), input_shape=(1, 28, 28..., activation=\"relu\")`\n",
      "  model.add(Convolution2D(32, 3, 3, activation='relu', input_shape=(1,28,28)))\n",
      "C:\\Users\\Thomas\\Documents\\Networks\\math276\\Thomas\\model_generation.py:53: UserWarning: Update your `Conv2D` call to the Keras 2 API: `Conv2D(32, (3, 3), activation=\"relu\")`\n",
      "  model.add(Convolution2D(32, 3, 3, activation='relu'))\n",
      "C:\\Users\\Thomas\\Anaconda3\\envs\\tensorflowgpu\\lib\\site-packages\\keras\\models.py:942: UserWarning: The `nb_epoch` argument in `fit` has been renamed `epochs`.\n",
      "  warnings.warn('The `nb_epoch` argument in `fit` '\n"
     ]
    },
    {
     "name": "stdout",
     "output_type": "stream",
     "text": [
      "Epoch 1/10\n",
      "60000/60000 [==============================] - 41s 682us/step - loss: 0.2008 - acc: 0.9378\n",
      "Epoch 2/10\n",
      "60000/60000 [==============================] - 40s 661us/step - loss: 0.0846 - acc: 0.9747\n",
      "Epoch 3/10\n",
      "60000/60000 [==============================] - 40s 665us/step - loss: 0.0632 - acc: 0.9809\n",
      "Epoch 4/10\n",
      "60000/60000 [==============================] - 39s 642us/step - loss: 0.0523 - acc: 0.9842\n",
      "Epoch 5/10\n",
      "60000/60000 [==============================] - 42s 707us/step - loss: 0.0458 - acc: 0.98571s - \n",
      "Epoch 6/10\n",
      "60000/60000 [==============================] - 43s 725us/step - loss: 0.0403 - acc: 0.9876\n",
      "Epoch 7/10\n",
      "60000/60000 [==============================] - 38s 636us/step - loss: 0.0358 - acc: 0.9886\n",
      "Epoch 8/10\n",
      "60000/60000 [==============================] - 38s 638us/step - loss: 0.0305 - acc: 0.9899\n",
      "Epoch 9/10\n",
      "60000/60000 [==============================] - 38s 636us/step - loss: 0.0299 - acc: 0.9905\n",
      "Epoch 10/10\n",
      "60000/60000 [==============================] - 38s 635us/step - loss: 0.0274 - acc: 0.9910\n"
     ]
    }
   ],
   "source": [
    "from model_generation import generate_model\n",
    "\n",
    "model = generate_model()"
   ]
  },
  {
   "cell_type": "code",
   "execution_count": 3,
   "metadata": {},
   "outputs": [
    {
     "name": "stderr",
     "output_type": "stream",
     "text": [
      "C:\\Users\\Thomas\\Documents\\Networks\\math276\\Thomas\\model_generation.py:52: UserWarning: Update your `Conv2D` call to the Keras 2 API: `Conv2D(32, (3, 3), input_shape=(1, 28, 28..., activation=\"relu\")`\n",
      "  model.add(Convolution2D(32, 3, 3, activation='relu', input_shape=(1,28,28)))\n",
      "C:\\Users\\Thomas\\Documents\\Networks\\math276\\Thomas\\model_generation.py:53: UserWarning: Update your `Conv2D` call to the Keras 2 API: `Conv2D(32, (3, 3), activation=\"relu\")`\n",
      "  model.add(Convolution2D(32, 3, 3, activation='relu'))\n",
      "C:\\Users\\Thomas\\Anaconda3\\envs\\tensorflowgpu\\lib\\site-packages\\keras\\models.py:942: UserWarning: The `nb_epoch` argument in `fit` has been renamed `epochs`.\n",
      "  warnings.warn('The `nb_epoch` argument in `fit` '\n"
     ]
    },
    {
     "name": "stdout",
     "output_type": "stream",
     "text": [
      "Epoch 1/10\n",
      "60000/60000 [==============================] - 41s 677us/step - loss: 0.3868 - acc: 0.8781\n",
      "Epoch 2/10\n",
      "60000/60000 [==============================] - 40s 660us/step - loss: 0.1724 - acc: 0.9472\n",
      "Epoch 3/10\n",
      "60000/60000 [==============================] - 39s 658us/step - loss: 0.1300 - acc: 0.9604\n",
      "Epoch 4/10\n",
      "60000/60000 [==============================] - 40s 661us/step - loss: 0.1096 - acc: 0.9659\n",
      "Epoch 5/10\n",
      "60000/60000 [==============================] - 39s 657us/step - loss: 0.0926 - acc: 0.9715\n",
      "Epoch 6/10\n",
      "60000/60000 [==============================] - 40s 664us/step - loss: 0.0888 - acc: 0.9728\n",
      "Epoch 7/10\n",
      "60000/60000 [==============================] - 40s 659us/step - loss: 0.0780 - acc: 0.9757\n",
      "Epoch 8/10\n",
      "60000/60000 [==============================] - 39s 658us/step - loss: 0.0727 - acc: 0.9767\n",
      "Epoch 9/10\n",
      "60000/60000 [==============================] - 39s 655us/step - loss: 0.0649 - acc: 0.9799\n",
      "Epoch 10/10\n",
      "60000/60000 [==============================] - 40s 660us/step - loss: 0.0600 - acc: 0.9804\n"
     ]
    }
   ],
   "source": [
    "model3 = generate_model(noise=True)"
   ]
  },
  {
   "cell_type": "code",
   "execution_count": 3,
   "metadata": {
    "collapsed": true
   },
   "outputs": [],
   "source": [
    "weights = model.get_weights()\n",
    "thresh = np.percentile(np.abs(weights[-2]), 20)\n",
    "weights[-2][np.abs(weights[-2])<thresh] = 0.0\n",
    "config = model.get_config()\n",
    "from keras.models import Sequential\n",
    "model2 = Sequential.from_config(config)\n",
    "model2.set_weights(weights)\n",
    "model2.compile(loss='categorical_crossentropy',\n",
    "              optimizer='adam',\n",
    "              metrics=['accuracy'])"
   ]
  },
  {
   "cell_type": "code",
   "execution_count": 4,
   "metadata": {},
   "outputs": [
    {
     "name": "stdout",
     "output_type": "stream",
     "text": [
      "[0.027638991620726572, 0.9917]\n",
      "[0.026397230025109547, 0.9921]\n"
     ]
    }
   ],
   "source": [
    "from model_generation import generate_data\n",
    "X_train, X_test, Y_train, Y_test = generate_data()\n",
    "score = model.evaluate(X_test, Y_test, verbose=0)\n",
    "print(score)\n",
    "score = model2.evaluate(X_test, Y_test, verbose=0)\n",
    "print(score)"
   ]
  },
  {
   "cell_type": "code",
   "execution_count": 5,
   "metadata": {},
   "outputs": [
    {
     "name": "stdout",
     "output_type": "stream",
     "text": [
      "[0.7950517480492592, 0.8241]\n",
      "[0.7950517480492592, 0.8241]\n"
     ]
    }
   ],
   "source": [
    "X_train_noise, X_test_noise, Y_train, Y_test = generate_data(noise=True)\n",
    "score = model.evaluate(X_test_noise, Y_test, verbose=0)\n",
    "print(score)\n",
    "score = model3.evaluate(X_test_noise, Y_test, verbose=0)\n",
    "print(score)"
   ]
  },
  {
   "cell_type": "code",
   "execution_count": 6,
   "metadata": {},
   "outputs": [
    {
     "data": {
      "image/png": "[encoded data removed]",
      "text/plain": [
       "<matplotlib.figure.Figure at 0x20605189f28>"
      ]
     },
     "metadata": {},
     "output_type": "display_data"
    },
    {
     "data": {
      "image/png": "[encoded data removed]",
      "text/plain": [
       "<matplotlib.figure.Figure at 0x206082e90f0>"
      ]
     },
     "metadata": {},
     "output_type": "display_data"
    }
   ],
   "source": [
    "# function counting the number of nodes above a threshold\n",
    "def thresh_count(arr, thresh):\n",
    "    return(np.sum(arr > thresh))\n",
    "\n",
    "\n",
    "def plot_l1_norm(model, title=\"\"):\n",
    "    # get the dense layer\n",
    "    dense_layer= model.layers[-3]\n",
    "\n",
    "    # pull out the weights\n",
    "    dense_weights = np.array(dense_layer.get_weights())\n",
    "\n",
    "    # compute the L1 norm for the dense weights\n",
    "    dense_L1 = np.sum(np.abs(dense_weights[0]), axis = 0)\n",
    "\n",
    "    # list of thresholds\n",
    "    thresh_list = np.linspace(0,500, 2000)\n",
    "\n",
    "    # count the number of nodes for all thresholds\n",
    "    dense_count = np.array([thresh_count(dense_L1, thresh) for thresh in thresh_list])\n",
    "\n",
    "    # plot count vs. thresh\n",
    "    plt.plot(thresh_list, dense_count)\n",
    "    plt.xlabel(\"Threshold\")\n",
    "    plt.ylabel(\"Number of Nodes\")\n",
    "    plt.title(title)\n",
    "    plt.show()\n",
    "    \n",
    "plot_l1_norm(model, title=\"Weighted Degree Without Noise\")\n",
    "plot_l1_norm(model3, title=\"Weighted Degree With Noise\")"
   ]
  },
  {
   "cell_type": "code",
   "execution_count": 7,
   "metadata": {},
   "outputs": [
    {
     "name": "stdout",
     "output_type": "stream",
     "text": [
      "(128, 10)\n"
     ]
    }
   ],
   "source": [
    "weights = np.abs(np.array(model.layers[-1].get_weights()[0]))\n",
    "print(weights.shape)\n",
    "weight_adj_matrix = np.zeros([sum(weights.shape),sum(weights.shape)])\n",
    "weight_adj_matrix[weights.shape[0]:,:weights.shape[0]] = np.transpose(weights)\n",
    "print(weight_adj_matrix)"
   ]
  },
  {
   "cell_type": "code",
   "execution_count": 9,
   "metadata": {},
   "outputs": [],
   "source": [
    "import bct\n",
    "# bct.betweenness_wei(weight_adj_matrix)"
   ]
  },
  {
   "cell_type": "code",
   "execution_count": 11,
   "metadata": {},
   "outputs": [],
   "source": [
    "def weighted_clustering_coeff(G):\n",
    "    \"\"\" Calculates clustering coefficient for a weighted network represented by an adjacency matrix \"\"\"\n",
    "    # https://www.researchgate.net/publication/49721057_Competition_for_Popularity_in_Bipartite_Networks\n",
    "    k = G.shape[0] # assume fully connected\n",
    "    coeffs = np.zeros((k,))\n",
    "    for i in range(k):\n",
    "        for j in range(k):\n",
    "            for h in range(k):\n",
    "                coeffs[i] += (G[i,j]*G[i,h]*G[h,j])**(1.0/3.0)\n",
    "        Gv = np.max(G[i,:])\n",
    "        coeffs[i] *= 2.0/(k*(k-1)*Gv)\n",
    "    return coeffs\n",
    "\n",
    "def calc_clustering_coeff_square(weights):\n",
    "    \"\"\" Calculates clustering coefficients for a bipartite weighted network represented by a weight matrix \"\"\"\n",
    "    # Compute the unipartite networks correspondign to the bipartite network\n",
    "    adj1 = np.matmul(weights, np.transpose(weights))\n",
    "    adj2 = np.matmul(np.transpose(weights), weights)\n",
    "    return weighted_clustering_coeff(adj1), weighted_clustering_coeff(adj2)\n",
    "\n",
    "coeffs1, coeffs2 = calc_clustering_coeff_square(weights)\n",
    "\n",
    "# print(coeffs1)\n",
    "# print(coeffs2)"
   ]
  },
  {
   "cell_type": "code",
   "execution_count": 14,
   "metadata": {},
   "outputs": [],
   "source": [
    "coeffs1, coeffs2 = calc_clustering_coeff_square(weights)"
   ]
  },
  {
   "cell_type": "code",
   "execution_count": 18,
   "metadata": {},
   "outputs": [
    {
     "data": {
      "image/png": "[encoded data removed]",
      "text/plain": [
       "<matplotlib.figure.Figure at 0x20608784390>"
      ]
     },
     "metadata": {},
     "output_type": "display_data"
    },
    {
     "name": "stdout",
     "output_type": "stream",
     "text": [
      "1.2311980519598613\n"
     ]
    }
   ],
   "source": [
    "plt.hist(coeffs1, bins=100, cumulative=True)\n",
    "plt.show()\n",
    "print(np.average(coeffs1))\n",
    "# weights_noise = np.abs(np.array(model3.layers[-1].get_weights()[0]))\n",
    "# coeffs1, coeffs2 = calc_clustering_coeff_square(weights_noise)\n",
    "# plt.hist(coeffs1, bins=100, cumulative=True)\n",
    "# plt.show()"
   ]
  },
  {
   "cell_type": "code",
   "execution_count": 24,
   "metadata": {},
   "outputs": [],
   "source": [
    "from keras import backend as K\n",
    "# Compute the adjacency matrix of the layer\n",
    "layer_adj_matrix = np.matmul(weights, np.transpose(weights))\n",
    "\n",
    "# Find the highest activation image for each node in the first dense layer\n",
    "from model_generation import generate_data\n",
    "X_train, X_test, Y_train, Y_test = generate_data()\n",
    "\n",
    "inp = model.input                                           # input placeholder\n",
    "outputs = [model.layers[-3].output]          # all layer outputs\n",
    "functor = K.function([inp]+ [K.learning_phase()], outputs ) # evaluation function\n",
    "\n",
    "# Testing\n",
    "test = X_test[:1000]\n",
    "layer_outs = functor([test, 1.])\n",
    "repr_indices = np.argmax(layer_outs[0], axis=0)\n",
    "# print(np.argmax(layer_outs[0],axis=1))"
   ]
  },
  {
   "cell_type": "code",
   "execution_count": 27,
   "metadata": {},
   "outputs": [
    {
     "data": {
      "image/png": "[encoded data removed]",
      "text/plain": [
       "<matplotlib.figure.Figure at 0x20606b9add8>"
      ]
     },
     "metadata": {},
     "output_type": "display_data"
    }
   ],
   "source": [
    "import networkx as nx\n",
    "from networkx.drawing import spring_layout\n",
    "#G = nx.Graph(layer_adj_matrix)\n",
    "G = nx.Graph(layer_adj_matrix, width=layer_adj_matrix)\n",
    "# nx.drawing.nx_pylab.draw_spring(G, node_size=40)\n",
    "layout = spring_layout(G)\n",
    "\n",
    "fig = plt.Figure()\n",
    "# Generate the image\n",
    "for i in range(128):\n",
    "    for j in range(128):\n",
    "        if layer_adj_matrix[i,j]>0.6:\n",
    "            pos1 = layout[i]*100\n",
    "            pos2 = layout[j]*100\n",
    "            plt.plot([pos1[0], pos2[0]], [pos1[1], pos2[1]], alpha=0.05, color=\"black\")\n",
    "        \n",
    "for i in range(128):\n",
    "    pos = layout[i]*200\n",
    "    extent = [pos[0]-14, pos[0]+14, pos[1]-14, pos[1]+14]\n",
    "    img = X_test[repr_indices[i]][0].copy()\n",
    "#     # add a black border\n",
    "#     for i in range(len(img)):\n",
    "#         img[i][0] = 1\n",
    "#         img[i][-1] = 1\n",
    "#         for j in range(len(img[0])):\n",
    "#             img[0][j] = 1\n",
    "#             img[-1][j] = 1\n",
    "    img = np.ma.masked_where(img == 0, img)\n",
    "    plt.imshow(img, interpolation=\"nearest\", extent=extent, cmap=\"binary\")\n",
    "plt.autoscale()\n",
    "plt.axis(\"off\")\n",
    "plt.show()"
   ]
  }
 ],
 "metadata": {
  "kernelspec": {
   "display_name": "Python 3(tensorflowgpu)",
   "language": "python",
   "name": "tensorflowgpu"
  },
  "language_info": {
   "codemirror_mode": {
    "name": "ipython",
    "version": 3
   },
   "file_extension": ".py",
   "mimetype": "text/x-python",
   "name": "python",
   "nbconvert_exporter": "python",
   "pygments_lexer": "ipython3",
   "version": "3.5.4"
  }
 },
 "nbformat": 4,
 "nbformat_minor": 2
}
