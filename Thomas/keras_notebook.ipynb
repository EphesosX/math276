{
 "cells": [
  {
   "cell_type": "code",
   "execution_count": 1,
   "metadata": {},
   "outputs": [],
   "source": [
    "from matplotlib import pyplot as plt\n",
    "%matplotlib inline\n",
    "import numpy as np"
   ]
  },
  {
   "cell_type": "code",
   "execution_count": 2,
   "metadata": {},
   "outputs": [
    {
     "name": "stderr",
     "output_type": "stream",
     "text": [
      "C:\\Users\\Thomas\\Anaconda3\\envs\\tensorflowgpu\\lib\\site-packages\\h5py\\__init__.py:36: FutureWarning: Conversion of the second argument of issubdtype from `float` to `np.floating` is deprecated. In future, it will be treated as `np.float64 == np.dtype(float).type`.\n",
      "  from ._conv import register_converters as _register_converters\n",
      "Using TensorFlow backend.\n"
     ]
    }
   ],
   "source": [
    "from model_generation import generate_model\n",
    "\n",
    "model = generate_model()\n",
    "model3 = generate_model(noise=True)"
   ]
  },
  {
   "cell_type": "code",
   "execution_count": 3,
   "metadata": {
    "collapsed": true
   },
   "outputs": [],
   "source": [
    "weights = model.get_weights()\n",
    "thresh = np.percentile(np.abs(weights[-2]), 20)\n",
    "weights[-2][np.abs(weights[-2])<thresh] = 0.0\n",
    "config = model.get_config()\n",
    "from keras.models import Sequential\n",
    "model2 = Sequential.from_config(config)\n",
    "model2.set_weights(weights)\n",
    "model2.compile(loss='categorical_crossentropy',\n",
    "              optimizer='adam',\n",
    "              metrics=['accuracy'])"
   ]
  },
  {
   "cell_type": "code",
   "execution_count": 7,
   "metadata": {},
   "outputs": [
    {
     "name": "stdout",
     "output_type": "stream",
     "text": [
      "[0.027638991620726572, 0.9917]\n",
      "[0.026397230025109547, 0.9921]\n",
      "[0.027638991620726572, 0.9917]\n",
      "[0.026397230025109547, 0.9921]\n"
     ]
    }
   ],
   "source": [
    "from model_generation import generate_data\n",
    "X_train, X_test, Y_train, Y_test = generate_data()\n",
    "score = model.evaluate(X_test, Y_test, verbose=0)\n",
    "print(score)\n",
    "score = model2.evaluate(X_test, Y_test, verbose=0)\n",
    "print(score)"
   ]
  },
  {
   "cell_type": "code",
   "execution_count": 4,
   "metadata": {},
   "outputs": [
    {
     "ename": "NameError",
     "evalue": "name 'X_test_noise' is not defined",
     "output_type": "error",
     "traceback": [
      "\u001b[1;31m---------------------------------------------------------------------------\u001b[0m",
      "\u001b[1;31mNameError\u001b[0m                                 Traceback (most recent call last)",
      "\u001b[1;32m<ipython-input-4-121d5ec85f63>\u001b[0m in \u001b[0;36m<module>\u001b[1;34m()\u001b[0m\n\u001b[0;32m      1\u001b[0m \u001b[1;31m# 10. Evaluate model on test data\u001b[0m\u001b[1;33m\u001b[0m\u001b[1;33m\u001b[0m\u001b[0m\n\u001b[1;32m----> 2\u001b[1;33m \u001b[0mscore\u001b[0m \u001b[1;33m=\u001b[0m \u001b[0mmodel\u001b[0m\u001b[1;33m.\u001b[0m\u001b[0mevaluate\u001b[0m\u001b[1;33m(\u001b[0m\u001b[0mX_test_noise\u001b[0m\u001b[1;33m,\u001b[0m \u001b[0mY_test\u001b[0m\u001b[1;33m,\u001b[0m \u001b[0mverbose\u001b[0m\u001b[1;33m=\u001b[0m\u001b[1;36m0\u001b[0m\u001b[1;33m)\u001b[0m\u001b[1;33m\u001b[0m\u001b[0m\n\u001b[0m\u001b[0;32m      3\u001b[0m \u001b[0mprint\u001b[0m\u001b[1;33m(\u001b[0m\u001b[0mscore\u001b[0m\u001b[1;33m)\u001b[0m\u001b[1;33m\u001b[0m\u001b[0m\n\u001b[0;32m      4\u001b[0m \u001b[0mscore\u001b[0m \u001b[1;33m=\u001b[0m \u001b[0mmodel3\u001b[0m\u001b[1;33m.\u001b[0m\u001b[0mevaluate\u001b[0m\u001b[1;33m(\u001b[0m\u001b[0mX_test_noise\u001b[0m\u001b[1;33m,\u001b[0m \u001b[0mY_test\u001b[0m\u001b[1;33m,\u001b[0m \u001b[0mverbose\u001b[0m\u001b[1;33m=\u001b[0m\u001b[1;36m0\u001b[0m\u001b[1;33m)\u001b[0m\u001b[1;33m\u001b[0m\u001b[0m\n\u001b[0;32m      5\u001b[0m \u001b[0mprint\u001b[0m\u001b[1;33m(\u001b[0m\u001b[0mscore\u001b[0m\u001b[1;33m)\u001b[0m\u001b[1;33m\u001b[0m\u001b[0m\n",
      "\u001b[1;31mNameError\u001b[0m: name 'X_test_noise' is not defined"
     ]
    }
   ],
   "source": [
    "X_train_noise, X_test_noise, Y_train, Y_test = generate_data(noise=True)\n",
    "score = model.evaluate(X_test_noise, Y_test, verbose=0)\n",
    "print(score)\n",
    "score = model3.evaluate(X_test_noise, Y_test, verbose=0)\n",
    "print(score)"
   ]
  },
  {
   "cell_type": "code",
   "execution_count": 7,
   "metadata": {},
   "outputs": [
    {
     "data": {
      "image/png": "[encoded data removed]",
      "text/plain": [
       "<matplotlib.figure.Figure at 0x236068910b8>"
      ]
     },
     "metadata": {},
     "output_type": "display_data"
    },
    {
     "data": {
      "image/png": "[encoded data removed]",
      "text/plain": [
       "<matplotlib.figure.Figure at 0x2360a172668>"
      ]
     },
     "metadata": {},
     "output_type": "display_data"
    }
   ],
   "source": [
    "# function counting the number of nodes above a threshold\n",
    "def thresh_count(arr, thresh):\n",
    "    return(np.sum(arr > thresh))\n",
    "\n",
    "\n",
    "def plot_l1_norm(model, title=\"\"):\n",
    "    # get the dense layer\n",
    "    dense_layer= model.layers[-3]\n",
    "\n",
    "    # pull out the weights\n",
    "    dense_weights = np.array(dense_layer.get_weights())\n",
    "\n",
    "    # compute the L1 norm for the dense weights\n",
    "    dense_L1 = np.sum(np.abs(dense_weights[0]), axis = 0)\n",
    "\n",
    "    # list of thresholds\n",
    "    thresh_list = np.linspace(0,500, 2000)\n",
    "\n",
    "    # count the number of nodes for all thresholds\n",
    "    dense_count = np.array([thresh_count(dense_L1, thresh) for thresh in thresh_list])\n",
    "\n",
    "    # plot count vs. thresh\n",
    "    plt.plot(thresh_list, dense_count)\n",
    "    plt.xlabel(\"Threshold\")\n",
    "    plt.ylabel(\"Number of Nodes\")\n",
    "    plt.title(title)\n",
    "    plt.show()\n",
    "    \n",
    "plot_l1_norm(model, title=\"Weighted Degree Without Noise\")\n",
    "plot_l1_norm(model3, title=\"Weighted Degree With Noise\")"
   ]
  },
  {
   "cell_type": "code",
   "execution_count": 2,
   "metadata": {},
   "outputs": [
    {
     "name": "stdout",
     "output_type": "stream",
     "text": [
      "(128, 10)\n"
     ]
    }
   ],
   "source": [
    "weights = np.abs(np.array(model.layers[-1].get_weights()[0]))\n",
    "print(weights.shape)\n",
    "weight_adj_matrix = np.zeros([sum(weights.shape),sum(weights.shape)])\n",
    "weight_adj_matrix[weights.shape[0]:,:weights.shape[0]] = np.transpose(weights)\n"
   ]
  },
  {
   "cell_type": "code",
   "execution_count": 27,
   "metadata": {},
   "outputs": [
    {
     "ename": "IndexError",
     "evalue": "only integers, slices (`:`), ellipsis (`...`), numpy.newaxis (`None`) and integer or boolean arrays are valid indices",
     "output_type": "error",
     "traceback": [
      "\u001b[1;31m---------------------------------------------------------------------------\u001b[0m",
      "\u001b[1;31mIndexError\u001b[0m                                Traceback (most recent call last)",
      "\u001b[1;32m<ipython-input-27-2ec9152e0578>\u001b[0m in \u001b[0;36m<module>\u001b[1;34m()\u001b[0m\n\u001b[0;32m      1\u001b[0m \u001b[1;32mimport\u001b[0m \u001b[0mbct\u001b[0m\u001b[1;33m\u001b[0m\u001b[0m\n\u001b[1;32m----> 2\u001b[1;33m \u001b[0mbct\u001b[0m\u001b[1;33m.\u001b[0m\u001b[0mbetweenness_wei\u001b[0m\u001b[1;33m(\u001b[0m\u001b[0mweight_adj_matrix\u001b[0m\u001b[1;33m)\u001b[0m\u001b[1;33m\u001b[0m\u001b[0m\n\u001b[0m",
      "\u001b[1;32m~\\Anaconda3\\envs\\tensorflowgpu\\lib\\site-packages\\bct\\algorithms\\centrality.py\u001b[0m in \u001b[0;36mbetweenness_wei\u001b[1;34m(G)\u001b[0m\n\u001b[0;32m    131\u001b[0m         \u001b[0mDP\u001b[0m \u001b[1;33m=\u001b[0m \u001b[0mnp\u001b[0m\u001b[1;33m.\u001b[0m\u001b[0mzeros\u001b[0m\u001b[1;33m(\u001b[0m\u001b[1;33m(\u001b[0m\u001b[0mn\u001b[0m\u001b[1;33m,\u001b[0m\u001b[1;33m)\u001b[0m\u001b[1;33m)\u001b[0m\u001b[1;33m\u001b[0m\u001b[0m\n\u001b[0;32m    132\u001b[0m         \u001b[1;32mfor\u001b[0m \u001b[0mw\u001b[0m \u001b[1;32min\u001b[0m \u001b[0mQ\u001b[0m\u001b[1;33m[\u001b[0m\u001b[1;33m:\u001b[0m\u001b[0mn\u001b[0m \u001b[1;33m-\u001b[0m \u001b[1;36m1\u001b[0m\u001b[1;33m]\u001b[0m\u001b[1;33m:\u001b[0m\u001b[1;33m\u001b[0m\u001b[0m\n\u001b[1;32m--> 133\u001b[1;33m             \u001b[0mBC\u001b[0m\u001b[1;33m[\u001b[0m\u001b[0mw\u001b[0m\u001b[1;33m]\u001b[0m \u001b[1;33m+=\u001b[0m \u001b[0mDP\u001b[0m\u001b[1;33m[\u001b[0m\u001b[0mw\u001b[0m\u001b[1;33m]\u001b[0m\u001b[1;33m\u001b[0m\u001b[0m\n\u001b[0m\u001b[0;32m    134\u001b[0m             \u001b[1;32mfor\u001b[0m \u001b[0mv\u001b[0m \u001b[1;32min\u001b[0m \u001b[0mnp\u001b[0m\u001b[1;33m.\u001b[0m\u001b[0mwhere\u001b[0m\u001b[1;33m(\u001b[0m\u001b[0mP\u001b[0m\u001b[1;33m[\u001b[0m\u001b[0mw\u001b[0m\u001b[1;33m,\u001b[0m \u001b[1;33m:\u001b[0m\u001b[1;33m]\u001b[0m\u001b[1;33m)\u001b[0m\u001b[1;33m[\u001b[0m\u001b[1;36m0\u001b[0m\u001b[1;33m]\u001b[0m\u001b[1;33m:\u001b[0m\u001b[1;33m\u001b[0m\u001b[0m\n\u001b[0;32m    135\u001b[0m                 \u001b[0mDP\u001b[0m\u001b[1;33m[\u001b[0m\u001b[0mv\u001b[0m\u001b[1;33m]\u001b[0m \u001b[1;33m+=\u001b[0m \u001b[1;33m(\u001b[0m\u001b[1;36m1\u001b[0m \u001b[1;33m+\u001b[0m \u001b[0mDP\u001b[0m\u001b[1;33m[\u001b[0m\u001b[0mw\u001b[0m\u001b[1;33m]\u001b[0m\u001b[1;33m)\u001b[0m \u001b[1;33m*\u001b[0m \u001b[0mNP\u001b[0m\u001b[1;33m[\u001b[0m\u001b[0mv\u001b[0m\u001b[1;33m]\u001b[0m \u001b[1;33m/\u001b[0m \u001b[0mNP\u001b[0m\u001b[1;33m[\u001b[0m\u001b[0mw\u001b[0m\u001b[1;33m]\u001b[0m\u001b[1;33m\u001b[0m\u001b[0m\n",
      "\u001b[1;31mIndexError\u001b[0m: only integers, slices (`:`), ellipsis (`...`), numpy.newaxis (`None`) and integer or boolean arrays are valid indices"
     ]
    }
   ],
   "source": [
    "import bct\n",
    "bct.betweenness_wei(weight_adj_matrix)"
   ]
  },
  {
   "cell_type": "code",
   "execution_count": 3,
   "metadata": {},
   "outputs": [
    {
     "name": "stdout",
     "output_type": "stream",
     "text": [
      "[1.34057611 1.50929653 1.73605064 1.19731262 1.21102299 1.14816974\n",
      " 1.34676438 1.32896723 1.11015616 1.32267434 1.24690514 1.37216327\n",
      " 1.2618905  1.58620752 1.36436365 1.25307896 1.0651853  1.34867898\n",
      " 1.3329485  1.19433681 1.33923586 1.20956296 1.14357654 1.15410609\n",
      " 1.24276211 1.40917349 1.16005138 1.26479179 1.12942346 1.31852542\n",
      " 1.34208809 1.10928271 1.34256744 1.19474112 1.09693357 1.21969238\n",
      " 1.33213253 1.16233619 1.35825865 0.99936869 1.411696   1.07375474\n",
      " 1.33125376 1.16354931 1.58182676 1.0077414  1.25371257 1.07120339\n",
      " 0.96135188 1.15632041 1.16282898 1.21361514 1.13190723 1.28605185\n",
      " 1.32902381 1.29287965 1.19192672 1.07087063 1.36577335 1.3291784\n",
      " 1.21573007 1.20185324 1.07382408 1.36950737 1.30892518 1.25571976\n",
      " 1.1071466  1.24970833 1.1947265  1.2443683  1.1305623  1.20260526\n",
      " 1.10690225 1.21118867 1.18741045 1.15627933 1.18112905 1.24582391\n",
      " 1.44560972 1.13710016 1.42113953 1.12928808 1.40018532 1.44986259\n",
      " 1.35788285 1.08306589 1.09742208 1.06305242 1.35042668 0.95475505\n",
      " 1.20634569 1.26162068 1.14040435 1.24935425 1.25569856 1.17610974\n",
      " 1.26321496 1.26077856 1.28300689 1.09761042 1.16252298 1.25240932\n",
      " 1.29645159 1.27745724 1.36866697 1.15938992 1.11325819 1.10032841\n",
      " 1.64839825 1.29724729 0.98935189 1.18034963 1.14147685 1.330754\n",
      " 1.20369975 1.2778464  1.23738186 1.10717741 1.16566061 1.15897739\n",
      " 1.12885356 0.90474399 1.26419181 1.17374675 1.05943104 1.26060281\n",
      " 1.15149908 1.26230471]\n",
      "[1.50636671 1.70917978 1.63785646 1.78357346 1.67574994 1.8409082\n",
      " 1.52589397 1.65914726 2.0492108  2.01452611]\n"
     ]
    }
   ],
   "source": [
    "def weighted_clustering_coeff(G):\n",
    "    \"\"\" Calculates clustering coefficient for a weighted network represented by an adjacency matrix \"\"\"\n",
    "    # https://www.researchgate.net/publication/49721057_Competition_for_Popularity_in_Bipartite_Networks\n",
    "    k = G.shape[0] # assume fully connected\n",
    "    coeffs = np.zeros((k,))\n",
    "    for i in range(k):\n",
    "        for j in range(k):\n",
    "            for h in range(k):\n",
    "                coeffs[i] += (G[i,j]*G[i,h]*G[h,j])**(1.0/3.0)\n",
    "        Gv = np.max(G[i,:])\n",
    "        coeffs[i] *= 2.0/(k*(k-1)*Gv)\n",
    "    return coeffs\n",
    "\n",
    "def calc_clustering_coeff_square(weights):\n",
    "    \"\"\" Calculates clustering coefficients for a bipartite weighted network represented by a weight matrix \"\"\"\n",
    "    # Compute the unipartite networks correspondign to the bipartite network\n",
    "    adj1 = np.matmul(weights, np.transpose(weights))\n",
    "    adj2 = np.matmul(np.transpose(weights), weights)\n",
    "    return weighted_clustering_coeff(adj1), weighted_clustering_coeff(adj2)\n",
    "\n",
    "coeffs1, coeffs2 = calc_clustering_coeff_square(weights)\n",
    "\n",
    "print(coeffs1)\n",
    "print(coeffs2)"
   ]
  },
  {
   "cell_type": "code",
   "execution_count": 5,
   "metadata": {},
   "outputs": [
    {
     "data": {
      "image/png": "[encoded data removed]",
      "text/plain": [
       "<matplotlib.figure.Figure at 0x152865de160>"
      ]
     },
     "metadata": {},
     "output_type": "display_data"
    }
   ],
   "source": [
    "coeffs1, coeffs2 = calc_clustering_coeff_square(weights)\n",
    "plt.hist(coeffs1, bins=100, cumulative=True)\n",
    "plt.show()\n",
    "# coeffs1, coeffs2 = calc_clustering_coeff_square(weights_noise)\n",
    "# plt.hist(coeffs1, bins=100, cumulative=True)\n",
    "# plt.show()"
   ]
  },
  {
   "cell_type": "code",
   "execution_count": 3,
   "metadata": {},
   "outputs": [
    {
     "name": "stdout",
     "output_type": "stream",
     "text": [
      "[[0.48281583 0.13003856 0.12423163 ... 0.36131796 0.43616673 0.31289464]\n",
      " [0.13003856 0.10315547 0.06657131 ... 0.1340848  0.20803358 0.14207378]\n",
      " [0.12423163 0.06657131 0.0603534  ... 0.10946285 0.1740945  0.11754135]\n",
      " ...\n",
      " [0.36131796 0.1340848  0.10946285 ... 0.33651704 0.38376465 0.2618209 ]\n",
      " [0.43616673 0.20803358 0.1740945  ... 0.38376465 0.59713423 0.39562884]\n",
      " [0.31289464 0.14207378 0.11754135 ... 0.2618209  0.39562884 0.3243383 ]]\n"
     ]
    }
   ],
   "source": [
    "# Compute the adjacency matrix of the layer\n",
    "layer_adj_matrix = np.matmul(weights, np.transpose(weights))\n",
    "print(layer_adj_matrix)"
   ]
  },
  {
   "cell_type": "code",
   "execution_count": 4,
   "metadata": {},
   "outputs": [
    {
     "name": "stdout",
     "output_type": "stream",
     "text": [
      "(1000, 128)\n",
      "[[0.14946799 0.         0.         ... 0.         1.8594362  0.        ]\n",
      " [2.9652686  0.         0.         ... 5.627422   5.6663914  6.2540345 ]\n",
      " [3.3109639  0.         0.         ... 0.         2.3872674  1.1143736 ]\n",
      " ...\n",
      " [0.         0.         0.         ... 0.2063659  0.         0.        ]\n",
      " [0.         0.         0.         ... 3.6705825  0.         0.        ]\n",
      " [0.         0.         0.         ... 0.         0.         0.        ]]\n"
     ]
    }
   ],
   "source": [
    "# Find the highest activation image for each node in the first dense layer\n",
    "from model_generation import generate_data\n",
    "X_train, Y_train, X_test, Y_test = generate_data()\n",
    "\n",
    "inp = model.input                                           # input placeholder\n",
    "outputs = [model.layers[-3].output]          # all layer outputs\n",
    "functor = K.function([inp]+ [K.learning_phase()], outputs ) # evaluation function\n",
    "\n",
    "# Testing\n",
    "test = X_test[:1000]\n",
    "layer_outs = functor([test, 1.])\n",
    "print(layer_outs[0].shape)\n",
    "print(layer_outs[0])\n",
    "repr_indices = np.argmax(layer_outs[0], axis=0)\n",
    "# print(np.argmax(layer_outs[0],axis=1))"
   ]
  },
  {
   "cell_type": "code",
   "execution_count": 5,
   "metadata": {},
   "outputs": [
    {
     "data": {
      "text/plain": [
       "<matplotlib.figure.Figure at 0x219a6276780>"
      ]
     },
     "metadata": {},
     "output_type": "display_data"
    },
    {
     "data": {
      "text/plain": [
       "<matplotlib.figure.Figure at 0x21a2adeb438>"
      ]
     },
     "metadata": {},
     "output_type": "display_data"
    },
    {
     "data": {
      "text/plain": [
       "<matplotlib.figure.Figure at 0x21a2ae26f60>"
      ]
     },
     "metadata": {},
     "output_type": "display_data"
    },
    {
     "data": {
      "text/plain": [
       "<matplotlib.figure.Figure at 0x21a2ae4b7b8>"
      ]
     },
     "metadata": {},
     "output_type": "display_data"
    },
    {
     "data": {
      "text/plain": [
       "<matplotlib.figure.Figure at 0x21a2ae724a8>"
      ]
     },
     "metadata": {},
     "output_type": "display_data"
    },
    {
     "data": {
      "text/plain": [
       "<matplotlib.figure.Figure at 0x21a2b7f8668>"
      ]
     },
     "metadata": {},
     "output_type": "display_data"
    },
    {
     "data": {
      "text/plain": [
       "<matplotlib.figure.Figure at 0x21a2b81bcf8>"
      ]
     },
     "metadata": {},
     "output_type": "display_data"
    },
    {
     "data": {
      "text/plain": [
       "<matplotlib.figure.Figure at 0x21a2b83fe80>"
      ]
     },
     "metadata": {},
     "output_type": "display_data"
    },
    {
     "data": {
      "text/plain": [
       "<matplotlib.figure.Figure at 0x21a2b86a4a8>"
      ]
     },
     "metadata": {},
     "output_type": "display_data"
    },
    {
     "data": {
      "text/plain": [
       "<matplotlib.figure.Figure at 0x21a2b88e898>"
      ]
     },
     "metadata": {},
     "output_type": "display_data"
    }
   ],
   "source": [
    "from matplotlib import pyplot as plt\n",
    "for i in range(10):\n",
    "    plt.imshow(X_test[i][0], cmap=\"binary\")\n",
    "    plt.show()"
   ]
  },
  {
   "cell_type": "code",
   "execution_count": 6,
   "metadata": {},
   "outputs": [
    {
     "name": "stdout",
     "output_type": "stream",
     "text": [
      "[891   0   0 763 384 281 164 631 128 638 522 841 425   0   0 363  22 299\n",
      " 841 477 845 631 721 110 841  11 860 876 860 216 912 990 299 536 626 876\n",
      " 565 665   0 890 997 912 147 694   0 966 864 569  75 568 482 997 841 904\n",
      " 612 980 245 536 458 722 837 211 596 486 390 164 522 602 546 384 625 597\n",
      " 503 997  13 250  63 433   0 807  82 284 720 493 711 103 458 813   0 822\n",
      " 349 123 658 806 787 581 779 503 822  82 333 996  97 453  56 327 514 654\n",
      "   0 156 163 516 367 326  54 810 819 698 860 792 890 560 466 636 703 318\n",
      " 837 472]\n",
      "128\n"
     ]
    }
   ],
   "source": [
    "print(repr_indices)\n",
    "print(len(repr_indices))"
   ]
  },
  {
   "cell_type": "code",
   "execution_count": 21,
   "metadata": {},
   "outputs": [
    {
     "data": {
      "image/png": "[encoded data removed]",
      "text/plain": [
       "<matplotlib.figure.Figure at 0x21a31e7b710>"
      ]
     },
     "metadata": {},
     "output_type": "display_data"
    }
   ],
   "source": [
    "import networkx as nx\n",
    "from networkx.drawing import spring_layout\n",
    "#G = nx.Graph(layer_adj_matrix)\n",
    "G = nx.Graph(layer_adj_matrix, width=layer_adj_matrix)\n",
    "# nx.drawing.nx_pylab.draw_spring(G, node_size=40)\n",
    "layout = spring_layout(G)\n",
    "\n",
    "fig = plt.Figure()\n",
    "# Generate the image\n",
    "for i in range(128):\n",
    "    for j in range(128):\n",
    "        if layer_adj_matrix[i,j]>0.6:\n",
    "            pos1 = layout[i]*100\n",
    "            pos2 = layout[j]*100\n",
    "            plt.plot([pos1[0], pos2[0]], [pos1[1], pos2[1]], alpha=0.05, color=\"black\")\n",
    "        \n",
    "for i in range(128):\n",
    "    pos = layout[i]*200\n",
    "    extent = [pos[0]-14, pos[0]+14, pos[1]-14, pos[1]+14]\n",
    "    img = X_test[repr_indices[i]][0].copy()\n",
    "#     # add a black border\n",
    "#     for i in range(len(img)):\n",
    "#         img[i][0] = 1\n",
    "#         img[i][-1] = 1\n",
    "#         for j in range(len(img[0])):\n",
    "#             img[0][j] = 1\n",
    "#             img[-1][j] = 1\n",
    "    img = np.ma.masked_where(img == 0, img)\n",
    "    plt.imshow(img, interpolation=\"nearest\", extent=extent, cmap=\"binary\")\n",
    "plt.autoscale()\n",
    "plt.axis(\"off\")\n",
    "plt.show()"
   ]
  }
 ],
 "metadata": {
  "kernelspec": {
   "display_name": "Python 3(tensorflowgpu)",
   "language": "python",
   "name": "tensorflowgpu"
  },
  "language_info": {
   "codemirror_mode": {
    "name": "ipython",
    "version": 3
   },
   "file_extension": ".py",
   "mimetype": "text/x-python",
   "name": "python",
   "nbconvert_exporter": "python",
   "pygments_lexer": "ipython3",
   "version": "3.5.4"
  }
 },
 "nbformat": 4,
 "nbformat_minor": 2
}
