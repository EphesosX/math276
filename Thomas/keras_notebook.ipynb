{
 "cells": [
  {
   "cell_type": "code",
   "execution_count": 1,
   "metadata": {
    "collapsed": true
   },
   "outputs": [],
   "source": [
    "from matplotlib import pyplot as plt\n",
    "%matplotlib inline\n",
    "import numpy as np"
   ]
  },
  {
   "cell_type": "code",
   "execution_count": 2,
   "metadata": {},
   "outputs": [
    {
     "name": "stderr",
     "output_type": "stream",
     "text": [
      "C:\\Users\\Thomas\\Anaconda3\\envs\\tensorflowgpu\\lib\\site-packages\\h5py\\__init__.py:36: FutureWarning: Conversion of the second argument of issubdtype from `float` to `np.floating` is deprecated. In future, it will be treated as `np.float64 == np.dtype(float).type`.\n",
      "  from ._conv import register_converters as _register_converters\n",
      "Using TensorFlow backend.\n"
     ]
    }
   ],
   "source": [
    "from model_generation import generate_model\n",
    "\n",
    "model = generate_model()"
   ]
  },
  {
   "cell_type": "code",
   "execution_count": 7,
   "metadata": {
    "collapsed": true
   },
   "outputs": [],
   "source": [
    "model3 = generate_model(noise=True)\n",
    "model4 = generate_model(nums=[0,1],name=\"keras_mnist_model_zero_onev1.h5\")"
   ]
  },
  {
   "cell_type": "code",
   "execution_count": 24,
   "metadata": {},
   "outputs": [],
   "source": [
    "model5 = generate_model(nums=[0,1,2], name=\"keras_mnist_model_zero_to_twov1.h5\")"
   ]
  },
  {
   "cell_type": "code",
   "execution_count": 23,
   "metadata": {},
   "outputs": [],
   "source": [
    "model6 = generate_model(nums=[0,1,2,3], name=\"keras_mnist_model_zero_to_threev1.h5\")"
   ]
  },
  {
   "cell_type": "code",
   "execution_count": 60,
   "metadata": {},
   "outputs": [],
   "source": [
    "model7 = generate_model(nums=[1,7], name=\"keras_mnist_model_one_sevenv1.h5\")"
   ]
  },
  {
   "cell_type": "code",
   "execution_count": 61,
   "metadata": {},
   "outputs": [
    {
     "name": "stderr",
     "output_type": "stream",
     "text": [
      "C:\\Users\\Thomas\\Documents\\Networks\\math276\\Thomas\\model_generation.py:76: UserWarning: Update your `Conv2D` call to the Keras 2 API: `Conv2D(32, (3, 3), input_shape=(1, 28, 28..., activation=\"relu\")`\n",
      "  model.add(Convolution2D(32, 3, 3, activation='relu', input_shape=(1,28,28)))\n",
      "C:\\Users\\Thomas\\Documents\\Networks\\math276\\Thomas\\model_generation.py:77: UserWarning: Update your `Conv2D` call to the Keras 2 API: `Conv2D(32, (3, 3), activation=\"relu\")`\n",
      "  model.add(Convolution2D(32, 3, 3, activation='relu'))\n",
      "C:\\Users\\Thomas\\Anaconda3\\envs\\tensorflowgpu\\lib\\site-packages\\keras\\models.py:942: UserWarning: The `nb_epoch` argument in `fit` has been renamed `epochs`.\n",
      "  warnings.warn('The `nb_epoch` argument in `fit` '\n"
     ]
    },
    {
     "name": "stdout",
     "output_type": "stream",
     "text": [
      "Epoch 1/10\n",
      "18930/18930 [==============================] - 13s 664us/step - loss: 0.0530 - acc: 0.9862\n",
      "Epoch 2/10\n",
      "18930/18930 [==============================] - 12s 620us/step - loss: 0.0126 - acc: 0.9961\n",
      "Epoch 3/10\n",
      "18930/18930 [==============================] - 11s 604us/step - loss: 0.0099 - acc: 0.9968\n",
      "Epoch 4/10\n",
      "18930/18930 [==============================] - 11s 597us/step - loss: 0.0096 - acc: 0.9969\n",
      "Epoch 5/10\n",
      "18930/18930 [==============================] - 11s 588us/step - loss: 0.0068 - acc: 0.9977\n",
      "Epoch 6/10\n",
      " 8768/18930 [============>.................] - ETA: 6s - loss: 0.0065 - acc: 0.9981"
     ]
    },
    {
     "ename": "KeyboardInterrupt",
     "evalue": "",
     "output_type": "error",
     "traceback": [
      "\u001b[1;31m---------------------------------------------------------------------------\u001b[0m",
      "\u001b[1;31mKeyboardInterrupt\u001b[0m                         Traceback (most recent call last)",
      "\u001b[1;32m<ipython-input-61-7b4ab3d222a7>\u001b[0m in \u001b[0;36m<module>\u001b[1;34m()\u001b[0m\n\u001b[1;32m----> 1\u001b[1;33m \u001b[0mmodel8\u001b[0m \u001b[1;33m=\u001b[0m \u001b[0mgenerate_model\u001b[0m\u001b[1;33m(\u001b[0m\u001b[0mnums\u001b[0m\u001b[1;33m=\u001b[0m\u001b[1;33m[\u001b[0m\u001b[1;36m0\u001b[0m\u001b[1;33m,\u001b[0m\u001b[1;36m1\u001b[0m\u001b[1;33m,\u001b[0m\u001b[1;36m7\u001b[0m\u001b[1;33m]\u001b[0m\u001b[1;33m,\u001b[0m \u001b[0mname\u001b[0m\u001b[1;33m=\u001b[0m\u001b[1;34m\"keras_mnist_model_zero_one_sevenv1,h5\"\u001b[0m\u001b[1;33m)\u001b[0m\u001b[1;33m\u001b[0m\u001b[0m\n\u001b[0m",
      "\u001b[1;32m~\\Documents\\Networks\\math276\\Thomas\\model_generation.py\u001b[0m in \u001b[0;36mgenerate_model\u001b[1;34m(noise, force_retrain, nums, name)\u001b[0m\n\u001b[0;32m     91\u001b[0m         \u001b[1;31m# 9. Fit model on training data\u001b[0m\u001b[1;33m\u001b[0m\u001b[1;33m\u001b[0m\u001b[0m\n\u001b[0;32m     92\u001b[0m \tmodel.fit(X_train, Y_train, \n\u001b[1;32m---> 93\u001b[1;33m \t          batch_size=32, nb_epoch=10, verbose=1)\n\u001b[0m\u001b[0;32m     94\u001b[0m \u001b[1;33m\u001b[0m\u001b[0m\n\u001b[0;32m     95\u001b[0m         \u001b[1;31m# 10. Evaluate model on test data\u001b[0m\u001b[1;33m\u001b[0m\u001b[1;33m\u001b[0m\u001b[0m\n",
      "\u001b[1;32m~\\Anaconda3\\envs\\tensorflowgpu\\lib\\site-packages\\keras\\models.py\u001b[0m in \u001b[0;36mfit\u001b[1;34m(self, x, y, batch_size, epochs, verbose, callbacks, validation_split, validation_data, shuffle, class_weight, sample_weight, initial_epoch, steps_per_epoch, validation_steps, **kwargs)\u001b[0m\n\u001b[0;32m    961\u001b[0m                               \u001b[0minitial_epoch\u001b[0m\u001b[1;33m=\u001b[0m\u001b[0minitial_epoch\u001b[0m\u001b[1;33m,\u001b[0m\u001b[1;33m\u001b[0m\u001b[0m\n\u001b[0;32m    962\u001b[0m                               \u001b[0msteps_per_epoch\u001b[0m\u001b[1;33m=\u001b[0m\u001b[0msteps_per_epoch\u001b[0m\u001b[1;33m,\u001b[0m\u001b[1;33m\u001b[0m\u001b[0m\n\u001b[1;32m--> 963\u001b[1;33m                               validation_steps=validation_steps)\n\u001b[0m\u001b[0;32m    964\u001b[0m \u001b[1;33m\u001b[0m\u001b[0m\n\u001b[0;32m    965\u001b[0m     def evaluate(self, x=None, y=None,\n",
      "\u001b[1;32m~\\Anaconda3\\envs\\tensorflowgpu\\lib\\site-packages\\keras\\engine\\training.py\u001b[0m in \u001b[0;36mfit\u001b[1;34m(self, x, y, batch_size, epochs, verbose, callbacks, validation_split, validation_data, shuffle, class_weight, sample_weight, initial_epoch, steps_per_epoch, validation_steps, **kwargs)\u001b[0m\n\u001b[0;32m   1710\u001b[0m                               \u001b[0minitial_epoch\u001b[0m\u001b[1;33m=\u001b[0m\u001b[0minitial_epoch\u001b[0m\u001b[1;33m,\u001b[0m\u001b[1;33m\u001b[0m\u001b[0m\n\u001b[0;32m   1711\u001b[0m                               \u001b[0msteps_per_epoch\u001b[0m\u001b[1;33m=\u001b[0m\u001b[0msteps_per_epoch\u001b[0m\u001b[1;33m,\u001b[0m\u001b[1;33m\u001b[0m\u001b[0m\n\u001b[1;32m-> 1712\u001b[1;33m                               validation_steps=validation_steps)\n\u001b[0m\u001b[0;32m   1713\u001b[0m \u001b[1;33m\u001b[0m\u001b[0m\n\u001b[0;32m   1714\u001b[0m     def evaluate(self, x=None, y=None,\n",
      "\u001b[1;32m~\\Anaconda3\\envs\\tensorflowgpu\\lib\\site-packages\\keras\\engine\\training.py\u001b[0m in \u001b[0;36m_fit_loop\u001b[1;34m(self, f, ins, out_labels, batch_size, epochs, verbose, callbacks, val_f, val_ins, shuffle, callback_metrics, initial_epoch, steps_per_epoch, validation_steps)\u001b[0m\n\u001b[0;32m   1233\u001b[0m                         \u001b[0mins_batch\u001b[0m\u001b[1;33m[\u001b[0m\u001b[0mi\u001b[0m\u001b[1;33m]\u001b[0m \u001b[1;33m=\u001b[0m \u001b[0mins_batch\u001b[0m\u001b[1;33m[\u001b[0m\u001b[0mi\u001b[0m\u001b[1;33m]\u001b[0m\u001b[1;33m.\u001b[0m\u001b[0mtoarray\u001b[0m\u001b[1;33m(\u001b[0m\u001b[1;33m)\u001b[0m\u001b[1;33m\u001b[0m\u001b[0m\n\u001b[0;32m   1234\u001b[0m \u001b[1;33m\u001b[0m\u001b[0m\n\u001b[1;32m-> 1235\u001b[1;33m                     \u001b[0mouts\u001b[0m \u001b[1;33m=\u001b[0m \u001b[0mf\u001b[0m\u001b[1;33m(\u001b[0m\u001b[0mins_batch\u001b[0m\u001b[1;33m)\u001b[0m\u001b[1;33m\u001b[0m\u001b[0m\n\u001b[0m\u001b[0;32m   1236\u001b[0m                     \u001b[1;32mif\u001b[0m \u001b[1;32mnot\u001b[0m \u001b[0misinstance\u001b[0m\u001b[1;33m(\u001b[0m\u001b[0mouts\u001b[0m\u001b[1;33m,\u001b[0m \u001b[0mlist\u001b[0m\u001b[1;33m)\u001b[0m\u001b[1;33m:\u001b[0m\u001b[1;33m\u001b[0m\u001b[0m\n\u001b[0;32m   1237\u001b[0m                         \u001b[0mouts\u001b[0m \u001b[1;33m=\u001b[0m \u001b[1;33m[\u001b[0m\u001b[0mouts\u001b[0m\u001b[1;33m]\u001b[0m\u001b[1;33m\u001b[0m\u001b[0m\n",
      "\u001b[1;32m~\\Anaconda3\\envs\\tensorflowgpu\\lib\\site-packages\\keras\\backend\\tensorflow_backend.py\u001b[0m in \u001b[0;36m__call__\u001b[1;34m(self, inputs)\u001b[0m\n\u001b[0;32m   2473\u001b[0m         \u001b[0msession\u001b[0m \u001b[1;33m=\u001b[0m \u001b[0mget_session\u001b[0m\u001b[1;33m(\u001b[0m\u001b[1;33m)\u001b[0m\u001b[1;33m\u001b[0m\u001b[0m\n\u001b[0;32m   2474\u001b[0m         updated = session.run(fetches=fetches, feed_dict=feed_dict,\n\u001b[1;32m-> 2475\u001b[1;33m                               **self.session_kwargs)\n\u001b[0m\u001b[0;32m   2476\u001b[0m         \u001b[1;32mreturn\u001b[0m \u001b[0mupdated\u001b[0m\u001b[1;33m[\u001b[0m\u001b[1;33m:\u001b[0m\u001b[0mlen\u001b[0m\u001b[1;33m(\u001b[0m\u001b[0mself\u001b[0m\u001b[1;33m.\u001b[0m\u001b[0moutputs\u001b[0m\u001b[1;33m)\u001b[0m\u001b[1;33m]\u001b[0m\u001b[1;33m\u001b[0m\u001b[0m\n\u001b[0;32m   2477\u001b[0m \u001b[1;33m\u001b[0m\u001b[0m\n",
      "\u001b[1;32m~\\Anaconda3\\envs\\tensorflowgpu\\lib\\site-packages\\tensorflow\\python\\client\\session.py\u001b[0m in \u001b[0;36mrun\u001b[1;34m(self, fetches, feed_dict, options, run_metadata)\u001b[0m\n\u001b[0;32m    893\u001b[0m     \u001b[1;32mtry\u001b[0m\u001b[1;33m:\u001b[0m\u001b[1;33m\u001b[0m\u001b[0m\n\u001b[0;32m    894\u001b[0m       result = self._run(None, fetches, feed_dict, options_ptr,\n\u001b[1;32m--> 895\u001b[1;33m                          run_metadata_ptr)\n\u001b[0m\u001b[0;32m    896\u001b[0m       \u001b[1;32mif\u001b[0m \u001b[0mrun_metadata\u001b[0m\u001b[1;33m:\u001b[0m\u001b[1;33m\u001b[0m\u001b[0m\n\u001b[0;32m    897\u001b[0m         \u001b[0mproto_data\u001b[0m \u001b[1;33m=\u001b[0m \u001b[0mtf_session\u001b[0m\u001b[1;33m.\u001b[0m\u001b[0mTF_GetBuffer\u001b[0m\u001b[1;33m(\u001b[0m\u001b[0mrun_metadata_ptr\u001b[0m\u001b[1;33m)\u001b[0m\u001b[1;33m\u001b[0m\u001b[0m\n",
      "\u001b[1;32m~\\Anaconda3\\envs\\tensorflowgpu\\lib\\site-packages\\tensorflow\\python\\client\\session.py\u001b[0m in \u001b[0;36m_run\u001b[1;34m(self, handle, fetches, feed_dict, options, run_metadata)\u001b[0m\n\u001b[0;32m   1126\u001b[0m     \u001b[1;32mif\u001b[0m \u001b[0mfinal_fetches\u001b[0m \u001b[1;32mor\u001b[0m \u001b[0mfinal_targets\u001b[0m \u001b[1;32mor\u001b[0m \u001b[1;33m(\u001b[0m\u001b[0mhandle\u001b[0m \u001b[1;32mand\u001b[0m \u001b[0mfeed_dict_tensor\u001b[0m\u001b[1;33m)\u001b[0m\u001b[1;33m:\u001b[0m\u001b[1;33m\u001b[0m\u001b[0m\n\u001b[0;32m   1127\u001b[0m       results = self._do_run(handle, final_targets, final_fetches,\n\u001b[1;32m-> 1128\u001b[1;33m                              feed_dict_tensor, options, run_metadata)\n\u001b[0m\u001b[0;32m   1129\u001b[0m     \u001b[1;32melse\u001b[0m\u001b[1;33m:\u001b[0m\u001b[1;33m\u001b[0m\u001b[0m\n\u001b[0;32m   1130\u001b[0m       \u001b[0mresults\u001b[0m \u001b[1;33m=\u001b[0m \u001b[1;33m[\u001b[0m\u001b[1;33m]\u001b[0m\u001b[1;33m\u001b[0m\u001b[0m\n",
      "\u001b[1;32m~\\Anaconda3\\envs\\tensorflowgpu\\lib\\site-packages\\tensorflow\\python\\client\\session.py\u001b[0m in \u001b[0;36m_do_run\u001b[1;34m(self, handle, target_list, fetch_list, feed_dict, options, run_metadata)\u001b[0m\n\u001b[0;32m   1342\u001b[0m     \u001b[1;32mif\u001b[0m \u001b[0mhandle\u001b[0m \u001b[1;32mis\u001b[0m \u001b[1;32mNone\u001b[0m\u001b[1;33m:\u001b[0m\u001b[1;33m\u001b[0m\u001b[0m\n\u001b[0;32m   1343\u001b[0m       return self._do_call(_run_fn, self._session, feeds, fetches, targets,\n\u001b[1;32m-> 1344\u001b[1;33m                            options, run_metadata)\n\u001b[0m\u001b[0;32m   1345\u001b[0m     \u001b[1;32melse\u001b[0m\u001b[1;33m:\u001b[0m\u001b[1;33m\u001b[0m\u001b[0m\n\u001b[0;32m   1346\u001b[0m       \u001b[1;32mreturn\u001b[0m \u001b[0mself\u001b[0m\u001b[1;33m.\u001b[0m\u001b[0m_do_call\u001b[0m\u001b[1;33m(\u001b[0m\u001b[0m_prun_fn\u001b[0m\u001b[1;33m,\u001b[0m \u001b[0mself\u001b[0m\u001b[1;33m.\u001b[0m\u001b[0m_session\u001b[0m\u001b[1;33m,\u001b[0m \u001b[0mhandle\u001b[0m\u001b[1;33m,\u001b[0m \u001b[0mfeeds\u001b[0m\u001b[1;33m,\u001b[0m \u001b[0mfetches\u001b[0m\u001b[1;33m)\u001b[0m\u001b[1;33m\u001b[0m\u001b[0m\n",
      "\u001b[1;32m~\\Anaconda3\\envs\\tensorflowgpu\\lib\\site-packages\\tensorflow\\python\\client\\session.py\u001b[0m in \u001b[0;36m_do_call\u001b[1;34m(self, fn, *args)\u001b[0m\n\u001b[0;32m   1348\u001b[0m   \u001b[1;32mdef\u001b[0m \u001b[0m_do_call\u001b[0m\u001b[1;33m(\u001b[0m\u001b[0mself\u001b[0m\u001b[1;33m,\u001b[0m \u001b[0mfn\u001b[0m\u001b[1;33m,\u001b[0m \u001b[1;33m*\u001b[0m\u001b[0margs\u001b[0m\u001b[1;33m)\u001b[0m\u001b[1;33m:\u001b[0m\u001b[1;33m\u001b[0m\u001b[0m\n\u001b[0;32m   1349\u001b[0m     \u001b[1;32mtry\u001b[0m\u001b[1;33m:\u001b[0m\u001b[1;33m\u001b[0m\u001b[0m\n\u001b[1;32m-> 1350\u001b[1;33m       \u001b[1;32mreturn\u001b[0m \u001b[0mfn\u001b[0m\u001b[1;33m(\u001b[0m\u001b[1;33m*\u001b[0m\u001b[0margs\u001b[0m\u001b[1;33m)\u001b[0m\u001b[1;33m\u001b[0m\u001b[0m\n\u001b[0m\u001b[0;32m   1351\u001b[0m     \u001b[1;32mexcept\u001b[0m \u001b[0merrors\u001b[0m\u001b[1;33m.\u001b[0m\u001b[0mOpError\u001b[0m \u001b[1;32mas\u001b[0m \u001b[0me\u001b[0m\u001b[1;33m:\u001b[0m\u001b[1;33m\u001b[0m\u001b[0m\n\u001b[0;32m   1352\u001b[0m       \u001b[0mmessage\u001b[0m \u001b[1;33m=\u001b[0m \u001b[0mcompat\u001b[0m\u001b[1;33m.\u001b[0m\u001b[0mas_text\u001b[0m\u001b[1;33m(\u001b[0m\u001b[0me\u001b[0m\u001b[1;33m.\u001b[0m\u001b[0mmessage\u001b[0m\u001b[1;33m)\u001b[0m\u001b[1;33m\u001b[0m\u001b[0m\n",
      "\u001b[1;32m~\\Anaconda3\\envs\\tensorflowgpu\\lib\\site-packages\\tensorflow\\python\\client\\session.py\u001b[0m in \u001b[0;36m_run_fn\u001b[1;34m(session, feed_dict, fetch_list, target_list, options, run_metadata)\u001b[0m\n\u001b[0;32m   1327\u001b[0m           return tf_session.TF_Run(session, options,\n\u001b[0;32m   1328\u001b[0m                                    \u001b[0mfeed_dict\u001b[0m\u001b[1;33m,\u001b[0m \u001b[0mfetch_list\u001b[0m\u001b[1;33m,\u001b[0m \u001b[0mtarget_list\u001b[0m\u001b[1;33m,\u001b[0m\u001b[1;33m\u001b[0m\u001b[0m\n\u001b[1;32m-> 1329\u001b[1;33m                                    status, run_metadata)\n\u001b[0m\u001b[0;32m   1330\u001b[0m \u001b[1;33m\u001b[0m\u001b[0m\n\u001b[0;32m   1331\u001b[0m     \u001b[1;32mdef\u001b[0m \u001b[0m_prun_fn\u001b[0m\u001b[1;33m(\u001b[0m\u001b[0msession\u001b[0m\u001b[1;33m,\u001b[0m \u001b[0mhandle\u001b[0m\u001b[1;33m,\u001b[0m \u001b[0mfeed_dict\u001b[0m\u001b[1;33m,\u001b[0m \u001b[0mfetch_list\u001b[0m\u001b[1;33m)\u001b[0m\u001b[1;33m:\u001b[0m\u001b[1;33m\u001b[0m\u001b[0m\n",
      "\u001b[1;31mKeyboardInterrupt\u001b[0m: "
     ]
    }
   ],
   "source": [
    "model8 = generate_model(nums=[0,1,7], name=\"keras_mnist_model_zero_one_sevenv1,h5\")"
   ]
  },
  {
   "cell_type": "code",
   "execution_count": 3,
   "metadata": {
    "collapsed": true
   },
   "outputs": [],
   "source": [
    "weights = model.get_weights()\n",
    "thresh = np.percentile(np.abs(weights[-2]), 20)\n",
    "weights[-2][np.abs(weights[-2])<thresh] = 0.0\n",
    "config = model.get_config()\n",
    "from keras.models import Sequential\n",
    "model2 = Sequential.from_config(config)\n",
    "model2.set_weights(weights)\n",
    "model2.compile(loss='categorical_crossentropy',\n",
    "              optimizer='adam',\n",
    "              metrics=['accuracy'])"
   ]
  },
  {
   "cell_type": "code",
   "execution_count": 4,
   "metadata": {},
   "outputs": [
    {
     "name": "stdout",
     "output_type": "stream",
     "text": [
      "[0.027638991620726572, 0.9917]\n",
      "[0.026397230025109547, 0.9921]\n"
     ]
    }
   ],
   "source": [
    "from model_generation import generate_data\n",
    "X_train, X_test, Y_train, Y_test = generate_data()\n",
    "score = model.evaluate(X_test, Y_test, verbose=0)\n",
    "print(score)\n",
    "score = model2.evaluate(X_test, Y_test, verbose=0)\n",
    "print(score)"
   ]
  },
  {
   "cell_type": "code",
   "execution_count": 5,
   "metadata": {},
   "outputs": [
    {
     "name": "stdout",
     "output_type": "stream",
     "text": [
      "[0.7950517480492592, 0.8241]\n",
      "[0.7950517480492592, 0.8241]\n"
     ]
    }
   ],
   "source": [
    "X_train_noise, X_test_noise, Y_train, Y_test = generate_data(noise=True)\n",
    "score = model.evaluate(X_test_noise, Y_test, verbose=0)\n",
    "print(score)\n",
    "score = model3.evaluate(X_test_noise, Y_test, verbose=0)\n",
    "print(score)"
   ]
  },
  {
   "cell_type": "code",
   "execution_count": 4,
   "metadata": {},
   "outputs": [
    {
     "data": {
      "image/png": "[encoded data removed]",
      "text/plain": [
       "<matplotlib.figure.Figure at 0x20a5d1cf320>"
      ]
     },
     "metadata": {},
     "output_type": "display_data"
    },
    {
     "data": {
      "image/png": "[encoded data removed]",
      "text/plain": [
       "<matplotlib.figure.Figure at 0x20a3eec3780>"
      ]
     },
     "metadata": {},
     "output_type": "display_data"
    }
   ],
   "source": [
    "# function counting the number of nodes above a threshold\n",
    "def thresh_count(arr, thresh):\n",
    "    return(np.sum(arr > thresh))\n",
    "\n",
    "\n",
    "def plot_l1_norm(model, title=\"\"):\n",
    "    # get the dense layer\n",
    "    dense_layer= model.layers[-3]\n",
    "\n",
    "    # pull out the weights\n",
    "    dense_weights = np.array(dense_layer.get_weights())\n",
    "\n",
    "    # compute the L1 norm for the dense weights\n",
    "    dense_L1 = np.sum(np.abs(dense_weights[0]), axis = 0)\n",
    "\n",
    "    # list of thresholds\n",
    "    thresh_list = np.linspace(0,500, 2000)\n",
    "\n",
    "    # count the number of nodes for all thresholds\n",
    "    dense_count = np.array([thresh_count(dense_L1, thresh) for thresh in thresh_list])\n",
    "\n",
    "    # plot count vs. thresh\n",
    "    plt.plot(thresh_list, dense_count)\n",
    "    plt.xlabel(\"Threshold\")\n",
    "    plt.ylabel(\"Number of Nodes\")\n",
    "    plt.title(title)\n",
    "    plt.show()\n",
    "    \n",
    "plot_l1_norm(model, title=\"Weighted Degree Without Noise\")\n",
    "plot_l1_norm(model3, title=\"Weighted Degree With Noise\")"
   ]
  },
  {
   "cell_type": "code",
   "execution_count": 55,
   "metadata": {},
   "outputs": [
    {
     "name": "stdout",
     "output_type": "stream",
     "text": [
      "(128, 10)\n",
      "[[0.         0.         0.         ... 0.         0.         0.        ]\n",
      " [0.         0.         0.         ... 0.         0.         0.        ]\n",
      " [0.         0.         0.         ... 0.         0.         0.        ]\n",
      " ...\n",
      " [0.17235444 0.05914584 0.00919179 ... 0.         0.         0.        ]\n",
      " [0.39859247 0.14722274 0.36580205 ... 0.         0.         0.        ]\n",
      " [0.18943426 0.11194394 0.09362796 ... 0.         0.         0.        ]]\n"
     ]
    }
   ],
   "source": [
    "weights = np.abs(np.array(model.layers[-1].get_weights()[0]))\n",
    "print(weights.shape)\n",
    "weight_adj_matrix = np.zeros([sum(weights.shape),sum(weights.shape)])\n",
    "weight_adj_matrix[weights.shape[0]:,:weights.shape[0]] = np.transpose(weights)\n",
    "print(weight_adj_matrix)"
   ]
  },
  {
   "cell_type": "code",
   "execution_count": 9,
   "metadata": {
    "collapsed": true
   },
   "outputs": [],
   "source": [
    "import bct\n",
    "# bct.betweenness_wei(weight_adj_matrix)"
   ]
  },
  {
   "cell_type": "code",
   "execution_count": 56,
   "metadata": {
    "collapsed": true
   },
   "outputs": [],
   "source": [
    "def weighted_clustering_coeff(G):\n",
    "    \"\"\" Calculates clustering coefficient for a weighted network represented by an adjacency matrix \"\"\"\n",
    "    # https://www.researchgate.net/publication/49721057_Competition_for_Popularity_in_Bipartite_Networks\n",
    "    k = G.shape[0] # assume fully connected\n",
    "    coeffs = np.zeros((k,))\n",
    "    for i in range(k):\n",
    "        for j in range(k):\n",
    "            for h in range(k):\n",
    "                coeffs[i] += (G[i,j]*G[i,h]*G[h,j])**(1.0/3.0)\n",
    "        Gv = np.max(G[i,:])\n",
    "        coeffs[i] *= 2.0/(k*(k-1)*Gv)\n",
    "    return coeffs\n",
    "\n",
    "def calc_clustering_coeff_square(weights):\n",
    "    \"\"\" Calculates clustering coefficients for a bipartite weighted network represented by a weight matrix \"\"\"\n",
    "    # Compute the unipartite networks correspondign to the bipartite network\n",
    "    adj1 = np.matmul(weights, np.transpose(weights))\n",
    "    adj2 = np.matmul(np.transpose(weights), weights)\n",
    "    return weighted_clustering_coeff(adj1), weighted_clustering_coeff(adj2)"
   ]
  },
  {
   "cell_type": "code",
   "execution_count": 57,
   "metadata": {
    "collapsed": true
   },
   "outputs": [],
   "source": [
    "coeffs1, coeffs2 = calc_clustering_coeff_square(weights)"
   ]
  },
  {
   "cell_type": "code",
   "execution_count": 59,
   "metadata": {},
   "outputs": [
    {
     "data": {
      "image/png": "[encoded data removed]",
      "text/plain": [
       "<matplotlib.figure.Figure at 0x15ec1e0aba8>"
      ]
     },
     "metadata": {},
     "output_type": "display_data"
    },
    {
     "name": "stdout",
     "output_type": "stream",
     "text": [
      "1.2418992631635395\n"
     ]
    },
    {
     "data": {
      "image/png": "[encoded data removed]",
      "text/plain": [
       "<matplotlib.figure.Figure at 0x15ec1ed9a58>"
      ]
     },
     "metadata": {},
     "output_type": "display_data"
    },
    {
     "name": "stdout",
     "output_type": "stream",
     "text": [
      "1.1156579708177847\n"
     ]
    }
   ],
   "source": [
    "# plt.hist(coeffs1, bins=100, cumulative=True)\n",
    "plt.hist(coeffs1, bins=100)\n",
    "plt.show()\n",
    "print(np.average(coeffs1))\n",
    "\n",
    "weights_noise = np.abs(np.array(model3.layers[-1].get_weights()[0]))\n",
    "coeffs1_noise, coeffs2_noise = calc_clustering_coeff_square(weights_noise)\n",
    "# plt.hist(coeffs1_noise, bins=100, cumulative=True)\n",
    "plt.hist(coeffs1_noise, bins=100)\n",
    "plt.show()\n",
    "print(np.average(coeffs1_noise))"
   ]
  },
  {
   "cell_type": "code",
   "execution_count": 101,
   "metadata": {},
   "outputs": [
    {
     "name": "stdout",
     "output_type": "stream",
     "text": [
      "(128, 128)\n",
      "[[ 1.          0.0773076   0.5499268  ... -0.04955212  0.523412\n",
      "  -0.2592222 ]\n",
      " [ 0.0773076   1.          0.02472727 ...  0.20815444  0.507266\n",
      "  -0.0239669 ]\n",
      " [ 0.5499268   0.02472727  1.         ... -0.7480482   0.61787\n",
      "  -0.266455  ]\n",
      " ...\n",
      " [-0.04955212  0.20815444 -0.7480482  ...  1.0000001  -0.2646319\n",
      "   0.09371626]\n",
      " [ 0.523412    0.507266    0.61787    ... -0.2646319   0.99999994\n",
      "  -0.16426033]\n",
      " [-0.2592222  -0.0239669  -0.266455   ...  0.09371626 -0.16426033\n",
      "   1.0000002 ]]\n",
      "(106, 106)\n"
     ]
    }
   ],
   "source": [
    "from keras import backend as K\n",
    "\n",
    "m = model7\n",
    "nums = [1,7]\n",
    "n = len(nums)\n",
    "\n",
    "weights = np.array(m.layers[-1].get_weights()[0])\n",
    "# Compute the adjacency matrix of the layer\n",
    "# layer_adj_matrix = np.matmul(weights, np.transpose(weights))\n",
    "\n",
    "# Permute the weights randomly to prevent indexing bias\n",
    "perm = np.random.permutation(weights.shape[0])\n",
    "weights = weights[perm]\n",
    "\n",
    "weights_norm = np.linalg.norm(weights[:,:], axis=1)\n",
    "# print(weights_norm)\n",
    "print(np.diag(np.reciprocal(weights_norm)).shape)\n",
    "# Normalize weights\n",
    "weights_normed = np.matmul(np.diag(np.reciprocal(weights_norm)), weights)\n",
    "layer_adj_matrix = np.matmul(weights_normed[:,:], np.transpose(weights_normed[:,:]))\n",
    "print(layer_adj_matrix)\n",
    "\n",
    "# # Compute a layer adjacency matrix composed of 2 nodes repeated 64 times\n",
    "# print(weights.shape)\n",
    "# weights_fake = np.concatenate([weights_normed[:16,:]]*8)\n",
    "# print(weights_fake.shape)\n",
    "# layer_adj_matrix = np.matmul(weights_fake, np.transpose(weights_fake))\n",
    "\n",
    "# Find the highest activation image for each node in the first dense layer\n",
    "from model_generation import generate_data\n",
    "X_train, X_test, Y_train, Y_test = generate_data(nums=nums)\n",
    "\n",
    "inp = m.input                                           # input placeholder\n",
    "outputs = [m.layers[-3].output, m.layers[-1].output]          # all layer outputs\n",
    "functor = K.function([inp]+ [K.learning_phase()], outputs ) # evaluation function\n",
    "\n",
    "# Testing\n",
    "test = X_test[:]\n",
    "# test = X_test_zero_one[:]\n",
    "layer_outs = functor([test, 1.])\n",
    "max_vals = np.max(layer_outs[0],axis=0)[perm]\n",
    "# print(max_vals)\n",
    "repr_indices = np.argmax(np.abs(layer_outs[0]), axis=0)[perm]\n",
    "# print(np.argmax(layer_outs[0],axis=1))\n",
    "print(layer_adj_matrix[max_vals!=0][:,max_vals!=0].shape)"
   ]
  },
  {
   "cell_type": "code",
   "execution_count": 50,
   "metadata": {},
   "outputs": [
    {
     "name": "stdout",
     "output_type": "stream",
     "text": [
      "-0.609813\n",
      "0.0\n",
      "[-10.350499    4.6536293]\n"
     ]
    },
    {
     "ename": "ValueError",
     "evalue": "operands could not be broadcast together with shapes (128,128) (95,95) ",
     "output_type": "error",
     "traceback": [
      "\u001b[1;31m---------------------------------------------------------------------------\u001b[0m",
      "\u001b[1;31mValueError\u001b[0m                                Traceback (most recent call last)",
      "\u001b[1;32m<ipython-input-50-d1ed773372e0>\u001b[0m in \u001b[0;36m<module>\u001b[1;34m()\u001b[0m\n\u001b[0;32m      3\u001b[0m \u001b[0mprint\u001b[0m\u001b[1;33m(\u001b[0m\u001b[0mnp\u001b[0m\u001b[1;33m.\u001b[0m\u001b[0mmin\u001b[0m\u001b[1;33m(\u001b[0m\u001b[0mlayer_outs\u001b[0m\u001b[1;33m[\u001b[0m\u001b[1;36m0\u001b[0m\u001b[1;33m]\u001b[0m\u001b[1;33m)\u001b[0m\u001b[1;33m)\u001b[0m\u001b[1;33m\u001b[0m\u001b[0m\n\u001b[0;32m      4\u001b[0m \u001b[0mprint\u001b[0m\u001b[1;33m(\u001b[0m\u001b[0mnp\u001b[0m\u001b[1;33m.\u001b[0m\u001b[0msum\u001b[0m\u001b[1;33m(\u001b[0m\u001b[0mweights\u001b[0m\u001b[1;33m[\u001b[0m\u001b[1;33m:\u001b[0m\u001b[1;33m,\u001b[0m\u001b[1;33m:\u001b[0m\u001b[1;36m2\u001b[0m\u001b[1;33m]\u001b[0m\u001b[1;33m,\u001b[0m \u001b[0maxis\u001b[0m\u001b[1;33m=\u001b[0m\u001b[1;36m0\u001b[0m\u001b[1;33m)\u001b[0m\u001b[1;33m)\u001b[0m\u001b[1;33m\u001b[0m\u001b[0m\n\u001b[1;32m----> 5\u001b[1;33m \u001b[0mbest_partners\u001b[0m \u001b[1;33m=\u001b[0m \u001b[0mnp\u001b[0m\u001b[1;33m.\u001b[0m\u001b[0margmax\u001b[0m\u001b[1;33m(\u001b[0m\u001b[0mlayer_adj_matrix\u001b[0m\u001b[1;33m-\u001b[0m\u001b[0mnp\u001b[0m\u001b[1;33m.\u001b[0m\u001b[0meye\u001b[0m\u001b[1;33m(\u001b[0m\u001b[1;36m95\u001b[0m\u001b[1;33m)\u001b[0m\u001b[1;33m,\u001b[0m\u001b[0maxis\u001b[0m\u001b[1;33m=\u001b[0m\u001b[1;36m0\u001b[0m\u001b[1;33m)\u001b[0m\u001b[1;33m\u001b[0m\u001b[0m\n\u001b[0m\u001b[0;32m      6\u001b[0m \u001b[0mlabels\u001b[0m \u001b[1;33m=\u001b[0m \u001b[0mnp\u001b[0m\u001b[1;33m.\u001b[0m\u001b[0margmax\u001b[0m\u001b[1;33m(\u001b[0m\u001b[0mY_test_zero_one\u001b[0m\u001b[1;33m,\u001b[0m\u001b[0maxis\u001b[0m\u001b[1;33m=\u001b[0m\u001b[1;36m1\u001b[0m\u001b[1;33m)\u001b[0m\u001b[1;33m[\u001b[0m\u001b[0mrepr_indices\u001b[0m\u001b[1;33m]\u001b[0m\u001b[1;33m\u001b[0m\u001b[0m\n\u001b[0;32m      7\u001b[0m \u001b[0mprint\u001b[0m\u001b[1;33m(\u001b[0m\u001b[0mlabels\u001b[0m\u001b[1;33m)\u001b[0m\u001b[1;33m\u001b[0m\u001b[0m\n",
      "\u001b[1;31mValueError\u001b[0m: operands could not be broadcast together with shapes (128,128) (95,95) "
     ]
    }
   ],
   "source": [
    "# print(layer_outs[1].shape)\n",
    "print(np.min(weights))\n",
    "print(np.min(layer_outs[0]))\n",
    "print(np.sum(weights[:,:2], axis=0))\n",
    "best_partners = np.argmax(layer_adj_matrix-np.eye(95),axis=0)\n",
    "labels = np.argmax(Y_test_zero_one,axis=1)[repr_indices]\n",
    "print(labels)\n",
    "print(best_partners)\n",
    "for i in range(len(best_partners)):\n",
    "    print(labels[i]-labels[best_partners[i]])"
   ]
  },
  {
   "cell_type": "code",
   "execution_count": 102,
   "metadata": {},
   "outputs": [
    {
     "name": "stdout",
     "output_type": "stream",
     "text": [
      "0.0\n"
     ]
    }
   ],
   "source": [
    "layer_adj_matrix = layer_adj_matrix[max_vals!=0][:,max_vals!=0]\n",
    "print(np.max(layer_adj_matrix - layer_adj_matrix.transpose()))"
   ]
  },
  {
   "cell_type": "code",
   "execution_count": 103,
   "metadata": {},
   "outputs": [
    {
     "name": "stdout",
     "output_type": "stream",
     "text": [
      "2.2095149159431458\n"
     ]
    },
    {
     "data": {
      "image/png": "[encoded data removed]",
      "text/plain": [
       "<matplotlib.figure.Figure at 0x15ec38206a0>"
      ]
     },
     "metadata": {},
     "output_type": "display_data"
    }
   ],
   "source": [
    "import networkx as nx\n",
    "from networkx.drawing import spring_layout\n",
    "\n",
    "# thresh = np.percentile(np.abs(layer_adj_matrix), 10)\n",
    "# layer_adj_matrix[np.abs(layer_adj_matrix)<thresh] = 0.0\n",
    "\n",
    "inv_adj_matrix = np.reciprocal(layer_adj_matrix)\n",
    "# Truncate high values\n",
    "thresh = np.percentile(inv_adj_matrix, 55)\n",
    "print(thresh)\n",
    "inv_adj_matrix[inv_adj_matrix>thresh] = 0.0\n",
    "inv_adj_matrix[inv_adj_matrix<0] = 0.0\n",
    "\n",
    "\n",
    "# G = nx.Graph(layer_adj_matrix)\n",
    "# G = nx.Graph(inv_adj_matrix, width=inv_adj_matrix)\n",
    "\n",
    "# Remove disconnected nodes\n",
    "# max_vals2 = np.max(inv_adj_matrix, axis=0)\n",
    "# inv_adj_matrix = inv_adj_matrix[max_vals2!=0][:,max_vals2!=0]\n",
    "\n",
    "\n",
    "G = nx.Graph(inv_adj_matrix)\n",
    "# nx.drawing.nx_pylab.draw_spring(G, node_size=40, weight='weight')\n",
    "layout = spring_layout(G, weight='weight')\n",
    "\n",
    "fig = plt.Figure()\n",
    "# Generate the image\n",
    "n = len(layout)\n",
    "# for i in range(n):\n",
    "#     for j in range(n):\n",
    "#         if inv_adj_matrix[i,j]<0.6:\n",
    "#             pos1 = layout[i]*200\n",
    "#             pos2 = layout[j]*200\n",
    "#             plt.plot([pos1[0], pos2[0]], [pos1[1], pos2[1]], alpha=0.05, color=\"black\")\n",
    "        \n",
    "for i in range(n):\n",
    "    pos = layout[i]*200\n",
    "    extent = [pos[0]-14, pos[0]+14, pos[1]-14, pos[1]+14]\n",
    "#     img = X_test[repr_indices[i]][0].copy()\n",
    "    img = X_test[repr_indices[max_vals!=0][i]][0].copy()\n",
    "#     img = X_test_zero_one[repr_indices[max_vals!=0][i]][0].copy()\n",
    "#     # add a black border\n",
    "#     for i in range(len(img)):\n",
    "#         img[i][0] = 1\n",
    "#         img[i][-1] = 1\n",
    "#         for j in range(len(img[0])):\n",
    "#             img[0][j] = 1\n",
    "#             img[-1][j] = 1\n",
    "    img = np.ma.masked_where(img == 0, img)\n",
    "    plt.imshow(img, interpolation=\"nearest\", extent=extent, cmap=\"binary\")\n",
    "plt.autoscale()\n",
    "plt.axis(\"off\")\n",
    "plt.show()"
   ]
  },
  {
   "cell_type": "code",
   "execution_count": 104,
   "metadata": {},
   "outputs": [
    {
     "name": "stdout",
     "output_type": "stream",
     "text": [
      "3.060774803161621\n",
      "[]\n",
      "[0, 1, 3, 6, 7, 8, 9, 10, 11, 12, 15, 16, 18, 20, 22, 25, 27, 28, 29, 30, 31, 32, 38, 40, 41, 42, 43, 45, 49, 50, 51, 52, 58, 60, 62, 63, 64, 67, 69, 70, 76, 78, 81, 82, 83, 85, 86, 89, 90, 92, 96, 97, 101, 103]\n",
      "[]\n",
      "[]\n",
      "[]\n",
      "[]\n",
      "[]\n",
      "[2, 4, 5, 13, 14, 17, 19, 21, 23, 24, 26, 33, 34, 35, 36, 37, 39, 44, 46, 47, 48, 53, 54, 55, 56, 57, 59, 61, 65, 66, 68, 71, 72, 73, 74, 75, 77, 79, 80, 84, 87, 88, 91, 93, 94, 95, 98, 99, 100, 102, 104, 105]\n"
     ]
    },
    {
     "data": {
      "image/png": "[encoded data removed]",
      "text/plain": [
       "<matplotlib.figure.Figure at 0x15ebd111518>"
      ]
     },
     "metadata": {},
     "output_type": "display_data"
    }
   ],
   "source": [
    "import networkx as nx\n",
    "from networkx.drawing import spring_layout\n",
    "from functools import reduce\n",
    "\n",
    "# thresh = np.percentile(np.abs(layer_adj_matrix), 10)\n",
    "# layer_adj_matrix[np.abs(layer_adj_matrix)<thresh] = 0.0\n",
    "\n",
    "inv_adj_matrix = np.reciprocal(layer_adj_matrix)\n",
    "# Truncate high values\n",
    "thresh = np.percentile(inv_adj_matrix, 70)\n",
    "print(thresh)\n",
    "inv_adj_matrix[inv_adj_matrix>thresh] = 0.0\n",
    "inv_adj_matrix[inv_adj_matrix<0] = 0.0\n",
    "\n",
    "# layer_adj_matrix2 = layer_adj_matrix.copy()\n",
    "# layer_adj_matrix2[layer_adj_matrix2<0] = 0.0\n",
    "# thresh = np.percentile(layer_adj_matrix2, 50)\n",
    "# layer_adj_matrix2[layer_adj_matrix2>thresh] = 0.0\n",
    "\n",
    "G = nx.Graph(inv_adj_matrix)\n",
    "# G = nx.Graph(layer_adj_matrix2)\n",
    "# nx.drawing.nx_pylab.draw_spring(G, node_size=40, weight='weight')\n",
    "layout = spring_layout(G, weight='weight')\n",
    "\n",
    "# Plot each digit as a different color\n",
    "labels = np.argmax(Y_test,axis=1)[repr_indices[max_vals!=0]]\n",
    "for i in range(max(nums)+1):\n",
    "    digit_set = [x[0] for x in np.argwhere(labels==i)]\n",
    "    print(digit_set)\n",
    "    # nodes\n",
    "    nx.draw_networkx_nodes(G,layout,\n",
    "                           nodelist=digit_set,\n",
    "                           node_color='C{}'.format(i),\n",
    "                           node_size=100)\n",
    "\n",
    "# edges\n",
    "nx.draw_networkx_edges(G,layout,width=1.0,alpha=0.4)\n",
    "plt.axis('off')\n",
    "plt.show()"
   ]
  },
  {
   "cell_type": "code",
   "execution_count": 105,
   "metadata": {
    "collapsed": true
   },
   "outputs": [],
   "source": [
    "from networkx.algorithms.community import girvan_newman\n",
    "from networkx import edge_betweenness_centrality\n",
    "def weighted_centrality(G):\n",
    "    return max(edge_betweenness_centrality(G, weight='weight').items(), key=lambda x:x[1])[0]\n",
    "communities = girvan_newman(G, weighted_centrality)"
   ]
  },
  {
   "cell_type": "code",
   "execution_count": 81,
   "metadata": {},
   "outputs": [
    {
     "name": "stdout",
     "output_type": "stream",
     "text": [
      "((10, 62), 0.17817974647486112)\n"
     ]
    }
   ],
   "source": [
    "ebc = edge_betweenness_centrality(G, weight='weight')\n",
    "# print(ebc)\n",
    "print(max(ebc.items(), key=lambda x:x[1]))"
   ]
  },
  {
   "cell_type": "code",
   "execution_count": null,
   "metadata": {},
   "outputs": [
    {
     "name": "stdout",
     "output_type": "stream",
     "text": [
      "({0, 1, 2, 3, 4, 5, 6, 7, 8, 9, 10, 11, 12, 13, 14, 15, 16, 17, 18, 20, 21, 22, 23, 24, 25, 26, 27, 28, 29, 30, 31, 32, 33, 34, 35, 36, 37, 38, 39, 40, 41, 42, 43, 44, 45, 46, 47, 48, 49, 50, 51, 52, 53, 54, 55, 56, 57, 58, 59, 60, 61, 62, 63, 64, 65, 66, 67, 68, 69, 70, 71, 72, 73, 74, 75, 76, 77, 78, 79, 80, 81, 82, 83, 84, 85, 86, 87, 88, 89, 90, 91, 92, 93, 94, 95, 96, 97, 98, 99, 100, 101, 102, 103, 104, 105}, {19})\n",
      "[1, 1, 7, 1, 7, 7, 1, 1, 1, 1, 1, 1, 1, 7, 7, 1, 1, 7, 1, 1, 7, 1, 7, 7, 1, 7, 1, 1, 1, 1, 1, 1, 7, 7, 7, 7, 7, 1, 7, 1, 1, 1, 1, 7, 1, 7, 7, 7, 1, 1, 1, 1, 7, 7, 7, 7, 7, 1, 7, 1, 7, 1, 1, 1, 7, 7, 1, 7, 1, 1, 7, 7, 7, 7, 7, 1, 7, 1, 7, 7, 1, 1, 1, 7, 1, 1, 7, 7, 1, 1, 7, 1, 7, 7, 7, 1, 1, 7, 7, 7, 1, 7, 1, 7, 7]\n",
      "[7]\n",
      "({0, 1, 2, 3, 4, 5, 6, 7, 8, 9, 10, 11, 12, 13, 14, 15, 16, 17, 18, 20, 21, 22, 23, 24, 25, 26, 27, 28, 29, 30, 31, 32, 33, 34, 35, 36, 37, 38, 39, 40, 41, 42, 43, 44, 45, 46, 47, 48, 49, 50, 51, 52, 53, 54, 55, 56, 57, 58, 59, 60, 61, 63, 64, 65, 66, 67, 68, 69, 70, 71, 72, 73, 74, 75, 76, 77, 78, 79, 80, 81, 82, 83, 84, 85, 86, 87, 88, 89, 90, 91, 92, 93, 94, 95, 96, 97, 98, 99, 100, 101, 102, 103, 104, 105}, {19}, {62})\n",
      "[1, 1, 7, 1, 7, 7, 1, 1, 1, 1, 1, 1, 1, 7, 7, 1, 1, 7, 1, 1, 7, 1, 7, 7, 1, 7, 1, 1, 1, 1, 1, 1, 7, 7, 7, 7, 7, 1, 7, 1, 1, 1, 1, 7, 1, 7, 7, 7, 1, 1, 1, 1, 7, 7, 7, 7, 7, 1, 7, 1, 7, 1, 1, 7, 7, 1, 7, 1, 1, 7, 7, 7, 7, 7, 1, 7, 1, 7, 7, 1, 1, 1, 7, 1, 1, 7, 7, 1, 1, 7, 1, 7, 7, 7, 1, 1, 7, 7, 7, 1, 7, 1, 7, 7]\n",
      "[7]\n",
      "[1]\n",
      "({0, 1, 2, 3, 4, 5, 6, 7, 8, 9, 10, 11, 12, 13, 14, 15, 16, 17, 18, 20, 21, 22, 23, 24, 25, 26, 27, 28, 29, 30, 31, 32, 33, 34, 35, 36, 37, 38, 39, 40, 41, 42, 43, 44, 45, 46, 47, 48, 49, 50, 51, 52, 53, 54, 55, 56, 57, 58, 59, 60, 61, 63, 64, 65, 67, 68, 69, 70, 71, 72, 73, 74, 75, 76, 77, 78, 79, 80, 81, 82, 83, 84, 85, 86, 87, 88, 89, 90, 91, 92, 93, 94, 95, 96, 97, 98, 99, 100, 101, 102, 103, 104, 105}, {19}, {62}, {66})\n",
      "[1, 1, 7, 1, 7, 7, 1, 1, 1, 1, 1, 1, 1, 7, 7, 1, 1, 7, 1, 1, 7, 1, 7, 7, 1, 7, 1, 1, 1, 1, 1, 1, 7, 7, 7, 7, 7, 1, 7, 1, 1, 1, 1, 7, 1, 7, 7, 7, 1, 1, 1, 1, 7, 7, 7, 7, 7, 1, 7, 1, 7, 1, 1, 7, 1, 7, 1, 1, 7, 7, 7, 7, 7, 1, 7, 1, 7, 7, 1, 1, 1, 7, 1, 1, 7, 7, 1, 1, 7, 1, 7, 7, 7, 1, 1, 7, 7, 7, 1, 7, 1, 7, 7]\n",
      "[7]\n",
      "[1]\n",
      "[7]\n",
      "({0, 1, 2, 3, 4, 5, 6, 7, 8, 9, 10, 11, 12, 13, 14, 15, 16, 17, 18, 20, 21, 22, 23, 24, 25, 26, 27, 28, 29, 30, 31, 32, 33, 34, 36, 37, 38, 39, 40, 41, 42, 43, 44, 45, 46, 47, 48, 49, 50, 51, 52, 53, 54, 55, 56, 57, 58, 59, 60, 61, 63, 64, 65, 67, 68, 69, 70, 71, 72, 73, 74, 75, 76, 77, 78, 79, 80, 81, 82, 83, 84, 85, 86, 87, 88, 89, 90, 91, 92, 93, 94, 95, 96, 97, 98, 99, 100, 101, 102, 103, 104, 105}, {19}, {35}, {62}, {66})\n",
      "[1, 1, 7, 1, 7, 7, 1, 1, 1, 1, 1, 1, 1, 7, 7, 1, 1, 7, 1, 1, 7, 1, 7, 7, 1, 7, 1, 1, 1, 1, 1, 1, 7, 7, 7, 7, 1, 7, 1, 1, 1, 1, 7, 1, 7, 7, 7, 1, 1, 1, 1, 7, 7, 7, 7, 7, 1, 7, 1, 7, 1, 1, 7, 1, 7, 1, 1, 7, 7, 7, 7, 7, 1, 7, 1, 7, 7, 1, 1, 1, 7, 1, 1, 7, 7, 1, 1, 7, 1, 7, 7, 7, 1, 1, 7, 7, 7, 1, 7, 1, 7, 7]\n",
      "[7]\n",
      "[7]\n",
      "[1]\n",
      "[7]\n",
      "({0, 1, 2, 3, 4, 5, 6, 7, 8, 9, 10, 11, 12, 13, 14, 15, 16, 17, 18, 20, 21, 22, 23, 24, 25, 26, 27, 28, 29, 30, 31, 32, 33, 34, 36, 37, 38, 39, 40, 41, 42, 43, 44, 45, 46, 47, 48, 49, 50, 51, 52, 53, 54, 55, 56, 57, 58, 59, 60, 61, 63, 64, 65, 67, 68, 69, 70, 71, 72, 73, 74, 75, 76, 77, 78, 79, 80, 81, 82, 83, 84, 85, 86, 87, 88, 89, 90, 91, 92, 93, 94, 95, 96, 97, 98, 99, 100, 101, 102, 103, 105}, {19}, {35}, {62}, {66}, {104})\n",
      "[1, 1, 7, 1, 7, 7, 1, 1, 1, 1, 1, 1, 1, 7, 7, 1, 1, 7, 1, 1, 7, 1, 7, 7, 1, 7, 1, 1, 1, 1, 1, 1, 7, 7, 7, 7, 1, 7, 1, 1, 1, 1, 7, 1, 7, 7, 7, 1, 1, 1, 1, 7, 7, 7, 7, 7, 1, 7, 1, 7, 1, 1, 7, 1, 7, 1, 1, 7, 7, 7, 7, 7, 1, 7, 1, 7, 7, 1, 1, 1, 7, 1, 1, 7, 7, 1, 1, 7, 1, 7, 7, 7, 1, 1, 7, 7, 7, 1, 7, 1, 7]\n",
      "[7]\n",
      "[7]\n",
      "[1]\n",
      "[7]\n",
      "[7]\n",
      "({0, 1, 2, 3, 4, 5, 6, 7, 8, 9, 10, 11, 12, 13, 14, 15, 16, 17, 18, 20, 21, 22, 23, 24, 25, 26, 27, 28, 29, 30, 31, 32, 33, 34, 36, 37, 38, 39, 40, 41, 42, 43, 44, 45, 46, 48, 49, 50, 51, 52, 53, 54, 55, 56, 57, 58, 59, 60, 61, 63, 64, 65, 67, 68, 69, 70, 71, 72, 73, 74, 75, 76, 77, 78, 79, 80, 81, 82, 83, 84, 85, 86, 87, 88, 89, 90, 91, 92, 93, 94, 95, 96, 97, 98, 99, 100, 101, 102, 103, 105}, {19}, {35}, {47}, {62}, {66}, {104})\n",
      "[1, 1, 7, 1, 7, 7, 1, 1, 1, 1, 1, 1, 1, 7, 7, 1, 1, 7, 1, 1, 7, 1, 7, 7, 1, 7, 1, 1, 1, 1, 1, 1, 7, 7, 7, 7, 1, 7, 1, 1, 1, 1, 7, 1, 7, 7, 1, 1, 1, 1, 7, 7, 7, 7, 7, 1, 7, 1, 7, 1, 1, 7, 1, 7, 1, 1, 7, 7, 7, 7, 7, 1, 7, 1, 7, 7, 1, 1, 1, 7, 1, 1, 7, 7, 1, 1, 7, 1, 7, 7, 7, 1, 1, 7, 7, 7, 1, 7, 1, 7]\n",
      "[7]\n",
      "[7]\n",
      "[7]\n",
      "[1]\n",
      "[7]\n",
      "[7]\n",
      "({0, 1, 2, 3, 4, 5, 6, 7, 8, 9, 10, 11, 12, 13, 14, 15, 16, 17, 18, 20, 21, 22, 23, 24, 25, 26, 27, 28, 29, 30, 31, 32, 33, 34, 36, 37, 38, 39, 40, 41, 42, 43, 44, 46, 48, 49, 50, 51, 52, 53, 54, 55, 56, 57, 58, 59, 60, 61, 63, 64, 65, 67, 68, 69, 70, 71, 72, 73, 74, 75, 76, 77, 78, 79, 80, 81, 82, 83, 84, 85, 86, 87, 88, 89, 90, 91, 92, 93, 94, 95, 96, 97, 98, 99, 100, 101, 102, 103, 105}, {19}, {35}, {45}, {47}, {62}, {66}, {104})\n",
      "[1, 1, 7, 1, 7, 7, 1, 1, 1, 1, 1, 1, 1, 7, 7, 1, 1, 7, 1, 1, 7, 1, 7, 7, 1, 7, 1, 1, 1, 1, 1, 1, 7, 7, 7, 7, 1, 7, 1, 1, 1, 1, 7, 7, 7, 1, 1, 1, 1, 7, 7, 7, 7, 7, 1, 7, 1, 7, 1, 1, 7, 1, 7, 1, 1, 7, 7, 7, 7, 7, 1, 7, 1, 7, 7, 1, 1, 1, 7, 1, 1, 7, 7, 1, 1, 7, 1, 7, 7, 7, 1, 1, 7, 7, 7, 1, 7, 1, 7]\n",
      "[7]\n",
      "[7]\n",
      "[1]\n",
      "[7]\n",
      "[1]\n",
      "[7]\n",
      "[7]\n",
      "({0, 1, 2, 3, 4, 6, 7, 8, 9, 10, 11, 12, 13, 14, 15, 16, 17, 18, 20, 21, 22, 23, 24, 25, 26, 27, 28, 29, 30, 31, 32, 33, 34, 36, 37, 38, 39, 40, 41, 42, 43, 44, 46, 48, 49, 50, 51, 52, 53, 54, 55, 56, 57, 58, 59, 60, 61, 63, 64, 65, 67, 68, 69, 70, 71, 72, 73, 74, 75, 76, 77, 78, 79, 80, 81, 82, 83, 84, 85, 86, 87, 88, 89, 90, 91, 92, 93, 94, 95, 96, 97, 98, 99, 100, 101, 102, 103, 105}, {5}, {19}, {35}, {45}, {47}, {62}, {66}, {104})\n",
      "[1, 1, 7, 1, 7, 1, 1, 1, 1, 1, 1, 1, 7, 7, 1, 1, 7, 1, 1, 7, 1, 7, 7, 1, 7, 1, 1, 1, 1, 1, 1, 7, 7, 7, 7, 1, 7, 1, 1, 1, 1, 7, 7, 7, 1, 1, 1, 1, 7, 7, 7, 7, 7, 1, 7, 1, 7, 1, 1, 7, 1, 7, 1, 1, 7, 7, 7, 7, 7, 1, 7, 1, 7, 7, 1, 1, 1, 7, 1, 1, 7, 7, 1, 1, 7, 1, 7, 7, 7, 1, 1, 7, 7, 7, 1, 7, 1, 7]\n",
      "[7]\n",
      "[7]\n",
      "[7]\n",
      "[1]\n",
      "[7]\n",
      "[1]\n",
      "[7]\n",
      "[7]\n",
      "({0, 1, 2, 3, 4, 6, 7, 8, 9, 10, 11, 12, 13, 14, 15, 16, 17, 18, 20, 21, 22, 23, 24, 25, 26, 27, 28, 29, 30, 31, 32, 33, 34, 36, 37, 38, 39, 40, 41, 42, 43, 46, 48, 49, 50, 51, 52, 53, 54, 55, 56, 57, 58, 59, 60, 61, 63, 64, 65, 67, 68, 69, 70, 71, 72, 73, 74, 75, 76, 77, 78, 79, 80, 81, 82, 83, 84, 85, 86, 87, 88, 89, 90, 91, 92, 93, 94, 95, 96, 97, 98, 99, 100, 101, 102, 103, 105}, {5}, {19}, {35}, {44}, {45}, {47}, {62}, {66}, {104})\n",
      "[1, 1, 7, 1, 7, 1, 1, 1, 1, 1, 1, 1, 7, 7, 1, 1, 7, 1, 1, 7, 1, 7, 7, 1, 7, 1, 1, 1, 1, 1, 1, 7, 7, 7, 7, 1, 7, 1, 1, 1, 1, 7, 7, 1, 1, 1, 1, 7, 7, 7, 7, 7, 1, 7, 1, 7, 1, 1, 7, 1, 7, 1, 1, 7, 7, 7, 7, 7, 1, 7, 1, 7, 7, 1, 1, 1, 7, 1, 1, 7, 7, 1, 1, 7, 1, 7, 7, 7, 1, 1, 7, 7, 7, 1, 7, 1, 7]\n",
      "[7]\n",
      "[7]\n",
      "[7]\n",
      "[7]\n",
      "[1]\n",
      "[7]\n",
      "[1]\n",
      "[7]\n",
      "[7]\n",
      "({0, 1, 2, 3, 4, 6, 7, 8, 9, 10, 11, 12, 13, 14, 15, 16, 17, 18, 20, 21, 22, 23, 24, 25, 26, 27, 28, 29, 30, 31, 32, 33, 34, 36, 37, 38, 39, 40, 41, 42, 43, 46, 48, 49, 50, 51, 52, 53, 54, 55, 56, 57, 58, 59, 60, 61, 63, 64, 65, 67, 68, 69, 70, 71, 73, 74, 75, 76, 77, 78, 79, 80, 81, 82, 83, 84, 85, 86, 87, 88, 89, 90, 91, 92, 93, 94, 95, 96, 97, 98, 99, 100, 101, 102, 103, 105}, {5}, {19}, {35}, {44}, {45}, {47}, {62}, {66}, {72}, {104})\n",
      "[1, 1, 7, 1, 7, 1, 1, 1, 1, 1, 1, 1, 7, 7, 1, 1, 7, 1, 1, 7, 1, 7, 7, 1, 7, 1, 1, 1, 1, 1, 1, 7, 7, 7, 7, 1, 7, 1, 1, 1, 1, 7, 7, 1, 1, 1, 1, 7, 7, 7, 7, 7, 1, 7, 1, 7, 1, 1, 7, 1, 7, 1, 1, 7, 7, 7, 7, 1, 7, 1, 7, 7, 1, 1, 1, 7, 1, 1, 7, 7, 1, 1, 7, 1, 7, 7, 7, 1, 1, 7, 7, 7, 1, 7, 1, 7]\n",
      "[7]\n",
      "[7]\n",
      "[7]\n",
      "[7]\n",
      "[1]\n",
      "[7]\n",
      "[1]\n",
      "[7]\n",
      "[7]\n",
      "[7]\n",
      "({0, 1, 2, 3, 4, 6, 7, 8, 9, 10, 11, 12, 13, 14, 15, 16, 17, 18, 20, 21, 22, 23, 24, 25, 26, 27, 28, 29, 30, 31, 32, 33, 34, 36, 37, 38, 39, 40, 41, 42, 43, 46, 48, 49, 50, 51, 52, 53, 54, 55, 56, 57, 58, 59, 60, 61, 63, 64, 65, 67, 68, 69, 70, 71, 73, 74, 75, 76, 77, 78, 79, 80, 81, 82, 83, 84, 85, 86, 87, 88, 89, 90, 91, 92, 93, 94, 95, 97, 98, 99, 100, 101, 102, 103, 105}, {5}, {19}, {35}, {44}, {45}, {47}, {62}, {66}, {72}, {96}, {104})\n",
      "[1, 1, 7, 1, 7, 1, 1, 1, 1, 1, 1, 1, 7, 7, 1, 1, 7, 1, 1, 7, 1, 7, 7, 1, 7, 1, 1, 1, 1, 1, 1, 7, 7, 7, 7, 1, 7, 1, 1, 1, 1, 7, 7, 1, 1, 1, 1, 7, 7, 7, 7, 7, 1, 7, 1, 7, 1, 1, 7, 1, 7, 1, 1, 7, 7, 7, 7, 1, 7, 1, 7, 7, 1, 1, 1, 7, 1, 1, 7, 7, 1, 1, 7, 1, 7, 7, 7, 1, 7, 7, 7, 1, 7, 1, 7]\n",
      "[7]\n",
      "[7]\n",
      "[7]\n",
      "[7]\n",
      "[1]\n",
      "[7]\n",
      "[1]\n",
      "[7]\n",
      "[7]\n",
      "[1]\n",
      "[7]\n"
     ]
    },
    {
     "name": "stdout",
     "output_type": "stream",
     "text": [
      "({0, 1, 2, 3, 4, 6, 7, 8, 9, 10, 11, 12, 13, 14, 15, 16, 17, 18, 20, 21, 22, 23, 24, 25, 26, 27, 28, 29, 30, 31, 32, 33, 34, 36, 37, 38, 39, 40, 41, 42, 43, 46, 48, 49, 50, 51, 52, 53, 54, 55, 56, 57, 58, 59, 60, 61, 63, 64, 65, 68, 69, 70, 71, 73, 74, 75, 76, 77, 78, 79, 80, 81, 82, 83, 84, 85, 86, 87, 88, 89, 90, 91, 92, 93, 94, 95, 97, 98, 99, 100, 101, 102, 103, 105}, {5}, {19}, {35}, {44}, {45}, {47}, {62}, {66}, {67}, {72}, {96}, {104})\n",
      "[1, 1, 7, 1, 7, 1, 1, 1, 1, 1, 1, 1, 7, 7, 1, 1, 7, 1, 1, 7, 1, 7, 7, 1, 7, 1, 1, 1, 1, 1, 1, 7, 7, 7, 7, 1, 7, 1, 1, 1, 1, 7, 7, 1, 1, 1, 1, 7, 7, 7, 7, 7, 1, 7, 1, 7, 1, 1, 7, 7, 1, 1, 7, 7, 7, 7, 1, 7, 1, 7, 7, 1, 1, 1, 7, 1, 1, 7, 7, 1, 1, 7, 1, 7, 7, 7, 1, 7, 7, 7, 1, 7, 1, 7]\n",
      "[7]\n",
      "[7]\n",
      "[7]\n",
      "[7]\n",
      "[1]\n",
      "[7]\n",
      "[1]\n",
      "[7]\n",
      "[1]\n",
      "[7]\n",
      "[1]\n",
      "[7]\n"
     ]
    }
   ],
   "source": [
    "for x in communities:\n",
    "    print(x)\n",
    "    for community in x:\n",
    "        print([labels[i] for i in community])"
   ]
  }
 ],
 "metadata": {
  "kernelspec": {
   "display_name": "Python 3(tensorflowgpu)",
   "language": "python",
   "name": "tensorflowgpu"
  },
  "language_info": {
   "codemirror_mode": {
    "name": "ipython",
    "version": 3
   },
   "file_extension": ".py",
   "mimetype": "text/x-python",
   "name": "python",
   "nbconvert_exporter": "python",
   "pygments_lexer": "ipython3",
   "version": "3.5.4"
  }
 },
 "nbformat": 4,
 "nbformat_minor": 2
}
